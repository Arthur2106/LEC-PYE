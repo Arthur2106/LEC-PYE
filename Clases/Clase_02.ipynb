{
 "cells": [
  {
   "cell_type": "markdown",
   "metadata": {},
   "source": [
    "<img src=\"https://www.promocionachile.cl/img/logos/uai.JPG\" width=\"400\" alt=\"utfsm-logo\" align=\"left\"/>"
   ]
  },
  {
   "cell_type": "markdown",
   "metadata": {},
   "source": [
    "# LEC de Probabilidad y Estadística, Viña del mar.\n",
    "## Clase 02\n",
    "### Profesor: Fabián Ramírez"
   ]
  },
  {
   "cell_type": "markdown",
   "metadata": {},
   "source": [
    "# Objetivos:\n",
    "* Tipos de variables\n",
    "* Construir e interpretar tablas de frecuencia y contingencia.\n",
    "* Construir e interpretar gráficos descriptivos.\n",
    "* Contruir e interpretar medidas de tendencia central, dispersión."
   ]
  },
  {
   "cell_type": "markdown",
   "metadata": {},
   "source": [
    "# Tipos de variables\n",
    "* Variable cualitativa\n",
    "    - Nominal\n",
    "    - Ordinal\n",
    "    - Binaria\n",
    "* Variable cuantitativa\n",
    "    - Discreta\n",
    "    - Continua"
   ]
  },
  {
   "cell_type": "markdown",
   "metadata": {},
   "source": [
    "**Definición**: Diremos que una variable es cualitativa si la variable mide una cualidad, como por ejemplo el color del pelo, si tiene pelo o no, si la prueba estuvo fácil, normal, o difícil. Una variable cualitativa se puede sub dividir en 3:\n",
    "* Binaria: Si la variable solo tiene dos posibles casos (Verdadero o Falso, si o no, etc...)\n",
    "* Ordinal: Si la variable tiene un orden como por ejemplo primer lugar, segundo lugar, tercer lugar, o bien la cantidad de algo, que puede ser poco, normal o mucho. \n",
    "* Nominal: Si no es ni ordinal ni binaria, como por ejemplo las marcas de los autos."
   ]
  },
  {
   "cell_type": "markdown",
   "metadata": {},
   "source": [
    "**Definición**: Diremos que una variable es cuantitativa, si la variable mide una cantidad. Como por ejemplo cantidad de glucosa en la sangre, cantidad de perros en una casa, entre otras. Una variable cualitativa se puede subdividir en 2:\n",
    "* Discreta: Si la característica se puede contar. Como por ejemplo cantidad de personas en una sala de clases. En general la variable se mide mediante números a lo más enteros.\n",
    "* Continua: Si la característica se debe medir mediante números reales (con decimales). Como por ejemplo el tamaño y peso de una persona, el tiempo necesario para que ocurra algo."
   ]
  },
  {
   "cell_type": "markdown",
   "metadata": {},
   "source": [
    "## Ejemplo:\n",
    "Mire la base de datos *pokemon.cvs*, analizaremos que tipo de variable es cada característica del pokemon:\n",
    "* Name,Type.1,Type.2 son nominales\n",
    "* HP,Attack,Defense,Sp..Atk,Sp..Def,Speed son discretas\n",
    "* Generation es ordinal\n",
    "* Legendary es binaria"
   ]
  },
  {
   "cell_type": "markdown",
   "metadata": {},
   "source": [
    "# Tablas de frecuencia\n",
    "En primer lugar lo que haremos sera leer la base de datos `pokemon.csv`"
   ]
  },
  {
   "cell_type": "code",
   "execution_count": 2,
   "metadata": {},
   "outputs": [
    {
     "data": {
      "text/html": [
       "<table class=\"dataframe\">\n",
       "<caption>A data.frame: 800 × 12</caption>\n",
       "<thead>\n",
       "\t<tr><th scope=col>X.</th><th scope=col>Name</th><th scope=col>Type.1</th><th scope=col>Type.2</th><th scope=col>HP</th><th scope=col>Attack</th><th scope=col>Defense</th><th scope=col>Sp..Atk</th><th scope=col>Sp..Def</th><th scope=col>Speed</th><th scope=col>Generation</th><th scope=col>Legendary</th></tr>\n",
       "\t<tr><th scope=col>&lt;int&gt;</th><th scope=col>&lt;chr&gt;</th><th scope=col>&lt;chr&gt;</th><th scope=col>&lt;chr&gt;</th><th scope=col>&lt;int&gt;</th><th scope=col>&lt;int&gt;</th><th scope=col>&lt;int&gt;</th><th scope=col>&lt;int&gt;</th><th scope=col>&lt;int&gt;</th><th scope=col>&lt;int&gt;</th><th scope=col>&lt;int&gt;</th><th scope=col>&lt;chr&gt;</th></tr>\n",
       "</thead>\n",
       "<tbody>\n",
       "\t<tr><td> 1</td><td>Bulbasaur       </td><td>Grass </td><td>Poison</td><td>45</td><td> 49</td><td> 49</td><td> 65</td><td> 65</td><td> 45</td><td>1</td><td>False</td></tr>\n",
       "\t<tr><td> 2</td><td>Ivysaur         </td><td>Grass </td><td>Poison</td><td>60</td><td> 62</td><td> 63</td><td> 80</td><td> 80</td><td> 60</td><td>1</td><td>False</td></tr>\n",
       "\t<tr><td> 3</td><td>Venusaur        </td><td>Grass </td><td>Poison</td><td>80</td><td> 82</td><td> 83</td><td>100</td><td>100</td><td> 80</td><td>1</td><td>False</td></tr>\n",
       "\t<tr><td> 4</td><td>Mega Venusaur   </td><td>Grass </td><td>Poison</td><td>80</td><td>100</td><td>123</td><td>122</td><td>120</td><td> 80</td><td>1</td><td>False</td></tr>\n",
       "\t<tr><td> 5</td><td>Charmander      </td><td>Fire  </td><td>      </td><td>39</td><td> 52</td><td> 43</td><td> 60</td><td> 50</td><td> 65</td><td>1</td><td>False</td></tr>\n",
       "\t<tr><td> 6</td><td>Charmeleon      </td><td>Fire  </td><td>      </td><td>58</td><td> 64</td><td> 58</td><td> 80</td><td> 65</td><td> 80</td><td>1</td><td>False</td></tr>\n",
       "\t<tr><td> 7</td><td>Charizard       </td><td>Fire  </td><td>Flying</td><td>78</td><td> 84</td><td> 78</td><td>109</td><td> 85</td><td>100</td><td>1</td><td>False</td></tr>\n",
       "\t<tr><td> 8</td><td>Mega Charizard X</td><td>Fire  </td><td>Dragon</td><td>78</td><td>130</td><td>111</td><td>130</td><td> 85</td><td>100</td><td>1</td><td>False</td></tr>\n",
       "\t<tr><td> 9</td><td>Mega Charizard Y</td><td>Fire  </td><td>Flying</td><td>78</td><td>104</td><td> 78</td><td>159</td><td>115</td><td>100</td><td>1</td><td>False</td></tr>\n",
       "\t<tr><td>10</td><td>Squirtle        </td><td>Water </td><td>      </td><td>44</td><td> 48</td><td> 65</td><td> 50</td><td> 64</td><td> 43</td><td>1</td><td>False</td></tr>\n",
       "\t<tr><td>11</td><td>Wartortle       </td><td>Water </td><td>      </td><td>59</td><td> 63</td><td> 80</td><td> 65</td><td> 80</td><td> 58</td><td>1</td><td>False</td></tr>\n",
       "\t<tr><td>12</td><td>Blastoise       </td><td>Water </td><td>      </td><td>79</td><td> 83</td><td>100</td><td> 85</td><td>105</td><td> 78</td><td>1</td><td>False</td></tr>\n",
       "\t<tr><td>13</td><td>Mega Blastoise  </td><td>Water </td><td>      </td><td>79</td><td>103</td><td>120</td><td>135</td><td>115</td><td> 78</td><td>1</td><td>False</td></tr>\n",
       "\t<tr><td>14</td><td>Caterpie        </td><td>Bug   </td><td>      </td><td>45</td><td> 30</td><td> 35</td><td> 20</td><td> 20</td><td> 45</td><td>1</td><td>False</td></tr>\n",
       "\t<tr><td>15</td><td>Metapod         </td><td>Bug   </td><td>      </td><td>50</td><td> 20</td><td> 55</td><td> 25</td><td> 25</td><td> 30</td><td>1</td><td>False</td></tr>\n",
       "\t<tr><td>16</td><td>Butterfree      </td><td>Bug   </td><td>Flying</td><td>60</td><td> 45</td><td> 50</td><td> 90</td><td> 80</td><td> 70</td><td>1</td><td>False</td></tr>\n",
       "\t<tr><td>17</td><td>Weedle          </td><td>Bug   </td><td>Poison</td><td>40</td><td> 35</td><td> 30</td><td> 20</td><td> 20</td><td> 50</td><td>1</td><td>False</td></tr>\n",
       "\t<tr><td>18</td><td>Kakuna          </td><td>Bug   </td><td>Poison</td><td>45</td><td> 25</td><td> 50</td><td> 25</td><td> 25</td><td> 35</td><td>1</td><td>False</td></tr>\n",
       "\t<tr><td>19</td><td>Beedrill        </td><td>Bug   </td><td>Poison</td><td>65</td><td> 90</td><td> 40</td><td> 45</td><td> 80</td><td> 75</td><td>1</td><td>False</td></tr>\n",
       "\t<tr><td>20</td><td>Mega Beedrill   </td><td>Bug   </td><td>Poison</td><td>65</td><td>150</td><td> 40</td><td> 15</td><td> 80</td><td>145</td><td>1</td><td>False</td></tr>\n",
       "\t<tr><td>21</td><td>Pidgey          </td><td>Normal</td><td>Flying</td><td>40</td><td> 45</td><td> 40</td><td> 35</td><td> 35</td><td> 56</td><td>1</td><td>False</td></tr>\n",
       "\t<tr><td>22</td><td>Pidgeotto       </td><td>Normal</td><td>Flying</td><td>63</td><td> 60</td><td> 55</td><td> 50</td><td> 50</td><td> 71</td><td>1</td><td>False</td></tr>\n",
       "\t<tr><td>23</td><td>Pidgeot         </td><td>Normal</td><td>Flying</td><td>83</td><td> 80</td><td> 75</td><td> 70</td><td> 70</td><td>101</td><td>1</td><td>False</td></tr>\n",
       "\t<tr><td>24</td><td>Mega Pidgeot    </td><td>Normal</td><td>Flying</td><td>83</td><td> 80</td><td> 80</td><td>135</td><td> 80</td><td>121</td><td>1</td><td>False</td></tr>\n",
       "\t<tr><td>25</td><td>Rattata         </td><td>Normal</td><td>      </td><td>30</td><td> 56</td><td> 35</td><td> 25</td><td> 35</td><td> 72</td><td>1</td><td>False</td></tr>\n",
       "\t<tr><td>26</td><td>Raticate        </td><td>Normal</td><td>      </td><td>55</td><td> 81</td><td> 60</td><td> 50</td><td> 70</td><td> 97</td><td>1</td><td>False</td></tr>\n",
       "\t<tr><td>27</td><td>Spearow         </td><td>Normal</td><td>Flying</td><td>40</td><td> 60</td><td> 30</td><td> 31</td><td> 31</td><td> 70</td><td>1</td><td>False</td></tr>\n",
       "\t<tr><td>28</td><td>Fearow          </td><td>Normal</td><td>Flying</td><td>65</td><td> 90</td><td> 65</td><td> 61</td><td> 61</td><td>100</td><td>1</td><td>False</td></tr>\n",
       "\t<tr><td>29</td><td>Ekans           </td><td>Poison</td><td>      </td><td>35</td><td> 60</td><td> 44</td><td> 40</td><td> 54</td><td> 55</td><td>1</td><td>False</td></tr>\n",
       "\t<tr><td>30</td><td>Arbok           </td><td>Poison</td><td>      </td><td>60</td><td> 85</td><td> 69</td><td> 65</td><td> 79</td><td> 80</td><td>1</td><td>False</td></tr>\n",
       "\t<tr><td>...</td><td>...</td><td>...</td><td>...</td><td>...</td><td>...</td><td>...</td><td>...</td><td>...</td><td>...</td><td>...</td><td>...</td></tr>\n",
       "\t<tr><td>771</td><td>Sylveon               </td><td>Fairy   </td><td>      </td><td> 95</td><td> 65</td><td> 65</td><td>110</td><td>130</td><td> 60</td><td>6</td><td>False</td></tr>\n",
       "\t<tr><td>772</td><td>Hawlucha              </td><td>Fighting</td><td>Flying</td><td> 78</td><td> 92</td><td> 75</td><td> 74</td><td> 63</td><td>118</td><td>6</td><td>False</td></tr>\n",
       "\t<tr><td>773</td><td>Dedenne               </td><td>Electric</td><td>Fairy </td><td> 67</td><td> 58</td><td> 57</td><td> 81</td><td> 67</td><td>101</td><td>6</td><td>False</td></tr>\n",
       "\t<tr><td>774</td><td>Carbink               </td><td>Rock    </td><td>Fairy </td><td> 50</td><td> 50</td><td>150</td><td> 50</td><td>150</td><td> 50</td><td>6</td><td>False</td></tr>\n",
       "\t<tr><td>775</td><td>Goomy                 </td><td>Dragon  </td><td>      </td><td> 45</td><td> 50</td><td> 35</td><td> 55</td><td> 75</td><td> 40</td><td>6</td><td>False</td></tr>\n",
       "\t<tr><td>776</td><td>Sliggoo               </td><td>Dragon  </td><td>      </td><td> 68</td><td> 75</td><td> 53</td><td> 83</td><td>113</td><td> 60</td><td>6</td><td>False</td></tr>\n",
       "\t<tr><td>777</td><td>Goodra                </td><td>Dragon  </td><td>      </td><td> 90</td><td>100</td><td> 70</td><td>110</td><td>150</td><td> 80</td><td>6</td><td>False</td></tr>\n",
       "\t<tr><td>778</td><td>Klefki                </td><td>Steel   </td><td>Fairy </td><td> 57</td><td> 80</td><td> 91</td><td> 80</td><td> 87</td><td> 75</td><td>6</td><td>False</td></tr>\n",
       "\t<tr><td>779</td><td>Phantump              </td><td>Ghost   </td><td>Grass </td><td> 43</td><td> 70</td><td> 48</td><td> 50</td><td> 60</td><td> 38</td><td>6</td><td>False</td></tr>\n",
       "\t<tr><td>780</td><td>Trevenant             </td><td>Ghost   </td><td>Grass </td><td> 85</td><td>110</td><td> 76</td><td> 65</td><td> 82</td><td> 56</td><td>6</td><td>False</td></tr>\n",
       "\t<tr><td>781</td><td>Pumpkaboo Average Size</td><td>Ghost   </td><td>Grass </td><td> 49</td><td> 66</td><td> 70</td><td> 44</td><td> 55</td><td> 51</td><td>6</td><td>False</td></tr>\n",
       "\t<tr><td>782</td><td>Pumpkaboo Small Size  </td><td>Ghost   </td><td>Grass </td><td> 44</td><td> 66</td><td> 70</td><td> 44</td><td> 55</td><td> 56</td><td>6</td><td>False</td></tr>\n",
       "\t<tr><td>783</td><td>Pumpkaboo Large Size  </td><td>Ghost   </td><td>Grass </td><td> 54</td><td> 66</td><td> 70</td><td> 44</td><td> 55</td><td> 46</td><td>6</td><td>False</td></tr>\n",
       "\t<tr><td>784</td><td>Pumpkaboo Super Size  </td><td>Ghost   </td><td>Grass </td><td> 59</td><td> 66</td><td> 70</td><td> 44</td><td> 55</td><td> 41</td><td>6</td><td>False</td></tr>\n",
       "\t<tr><td>785</td><td>Gourgeist Average Size</td><td>Ghost   </td><td>Grass </td><td> 65</td><td> 90</td><td>122</td><td> 58</td><td> 75</td><td> 84</td><td>6</td><td>False</td></tr>\n",
       "\t<tr><td>786</td><td>Gourgeist Small Size  </td><td>Ghost   </td><td>Grass </td><td> 55</td><td> 85</td><td>122</td><td> 58</td><td> 75</td><td> 99</td><td>6</td><td>False</td></tr>\n",
       "\t<tr><td>787</td><td>Gourgeist Large Size  </td><td>Ghost   </td><td>Grass </td><td> 75</td><td> 95</td><td>122</td><td> 58</td><td> 75</td><td> 69</td><td>6</td><td>False</td></tr>\n",
       "\t<tr><td>788</td><td>Gourgeist Super Size  </td><td>Ghost   </td><td>Grass </td><td> 85</td><td>100</td><td>122</td><td> 58</td><td> 75</td><td> 54</td><td>6</td><td>False</td></tr>\n",
       "\t<tr><td>789</td><td>Bergmite              </td><td>Ice     </td><td>      </td><td> 55</td><td> 69</td><td> 85</td><td> 32</td><td> 35</td><td> 28</td><td>6</td><td>False</td></tr>\n",
       "\t<tr><td>790</td><td>Avalugg               </td><td>Ice     </td><td>      </td><td> 95</td><td>117</td><td>184</td><td> 44</td><td> 46</td><td> 28</td><td>6</td><td>False</td></tr>\n",
       "\t<tr><td>791</td><td>Noibat                </td><td>Flying  </td><td>Dragon</td><td> 40</td><td> 30</td><td> 35</td><td> 45</td><td> 40</td><td> 55</td><td>6</td><td>False</td></tr>\n",
       "\t<tr><td>792</td><td>Noivern               </td><td>Flying  </td><td>Dragon</td><td> 85</td><td> 70</td><td> 80</td><td> 97</td><td> 80</td><td>123</td><td>6</td><td>False</td></tr>\n",
       "\t<tr><td>793</td><td>Xerneas               </td><td>Fairy   </td><td>      </td><td>126</td><td>131</td><td> 95</td><td>131</td><td> 98</td><td> 99</td><td>6</td><td>True </td></tr>\n",
       "\t<tr><td>794</td><td>Yveltal               </td><td>Dark    </td><td>Flying</td><td>126</td><td>131</td><td> 95</td><td>131</td><td> 98</td><td> 99</td><td>6</td><td>True </td></tr>\n",
       "\t<tr><td>795</td><td>Zygarde Half Forme    </td><td>Dragon  </td><td>Ground</td><td>108</td><td>100</td><td>121</td><td> 81</td><td> 95</td><td> 95</td><td>6</td><td>True </td></tr>\n",
       "\t<tr><td>796</td><td>Diancie               </td><td>Rock    </td><td>Fairy </td><td> 50</td><td>100</td><td>150</td><td>100</td><td>150</td><td> 50</td><td>6</td><td>True </td></tr>\n",
       "\t<tr><td>797</td><td>Mega Diancie          </td><td>Rock    </td><td>Fairy </td><td> 50</td><td>160</td><td>110</td><td>160</td><td>110</td><td>110</td><td>6</td><td>True </td></tr>\n",
       "\t<tr><td>798</td><td>Hoopa Confined        </td><td>Psychic </td><td>Ghost </td><td> 80</td><td>110</td><td> 60</td><td>150</td><td>130</td><td> 70</td><td>6</td><td>True </td></tr>\n",
       "\t<tr><td>799</td><td>Hoopa Unbound         </td><td>Psychic </td><td>Dark  </td><td> 80</td><td>160</td><td> 60</td><td>170</td><td>130</td><td> 80</td><td>6</td><td>True </td></tr>\n",
       "\t<tr><td>800</td><td>Volcanion             </td><td>Fire    </td><td>Water </td><td> 80</td><td>110</td><td>120</td><td>130</td><td> 90</td><td> 70</td><td>6</td><td>True </td></tr>\n",
       "</tbody>\n",
       "</table>\n"
      ],
      "text/latex": [
       "A data.frame: 800 × 12\n",
       "\\begin{tabular}{llllllllllll}\n",
       " X. & Name & Type.1 & Type.2 & HP & Attack & Defense & Sp..Atk & Sp..Def & Speed & Generation & Legendary\\\\\n",
       " <int> & <chr> & <chr> & <chr> & <int> & <int> & <int> & <int> & <int> & <int> & <int> & <chr>\\\\\n",
       "\\hline\n",
       "\t  1 & Bulbasaur        & Grass  & Poison & 45 &  49 &  49 &  65 &  65 &  45 & 1 & False\\\\\n",
       "\t  2 & Ivysaur          & Grass  & Poison & 60 &  62 &  63 &  80 &  80 &  60 & 1 & False\\\\\n",
       "\t  3 & Venusaur         & Grass  & Poison & 80 &  82 &  83 & 100 & 100 &  80 & 1 & False\\\\\n",
       "\t  4 & Mega Venusaur    & Grass  & Poison & 80 & 100 & 123 & 122 & 120 &  80 & 1 & False\\\\\n",
       "\t  5 & Charmander       & Fire   &        & 39 &  52 &  43 &  60 &  50 &  65 & 1 & False\\\\\n",
       "\t  6 & Charmeleon       & Fire   &        & 58 &  64 &  58 &  80 &  65 &  80 & 1 & False\\\\\n",
       "\t  7 & Charizard        & Fire   & Flying & 78 &  84 &  78 & 109 &  85 & 100 & 1 & False\\\\\n",
       "\t  8 & Mega Charizard X & Fire   & Dragon & 78 & 130 & 111 & 130 &  85 & 100 & 1 & False\\\\\n",
       "\t  9 & Mega Charizard Y & Fire   & Flying & 78 & 104 &  78 & 159 & 115 & 100 & 1 & False\\\\\n",
       "\t 10 & Squirtle         & Water  &        & 44 &  48 &  65 &  50 &  64 &  43 & 1 & False\\\\\n",
       "\t 11 & Wartortle        & Water  &        & 59 &  63 &  80 &  65 &  80 &  58 & 1 & False\\\\\n",
       "\t 12 & Blastoise        & Water  &        & 79 &  83 & 100 &  85 & 105 &  78 & 1 & False\\\\\n",
       "\t 13 & Mega Blastoise   & Water  &        & 79 & 103 & 120 & 135 & 115 &  78 & 1 & False\\\\\n",
       "\t 14 & Caterpie         & Bug    &        & 45 &  30 &  35 &  20 &  20 &  45 & 1 & False\\\\\n",
       "\t 15 & Metapod          & Bug    &        & 50 &  20 &  55 &  25 &  25 &  30 & 1 & False\\\\\n",
       "\t 16 & Butterfree       & Bug    & Flying & 60 &  45 &  50 &  90 &  80 &  70 & 1 & False\\\\\n",
       "\t 17 & Weedle           & Bug    & Poison & 40 &  35 &  30 &  20 &  20 &  50 & 1 & False\\\\\n",
       "\t 18 & Kakuna           & Bug    & Poison & 45 &  25 &  50 &  25 &  25 &  35 & 1 & False\\\\\n",
       "\t 19 & Beedrill         & Bug    & Poison & 65 &  90 &  40 &  45 &  80 &  75 & 1 & False\\\\\n",
       "\t 20 & Mega Beedrill    & Bug    & Poison & 65 & 150 &  40 &  15 &  80 & 145 & 1 & False\\\\\n",
       "\t 21 & Pidgey           & Normal & Flying & 40 &  45 &  40 &  35 &  35 &  56 & 1 & False\\\\\n",
       "\t 22 & Pidgeotto        & Normal & Flying & 63 &  60 &  55 &  50 &  50 &  71 & 1 & False\\\\\n",
       "\t 23 & Pidgeot          & Normal & Flying & 83 &  80 &  75 &  70 &  70 & 101 & 1 & False\\\\\n",
       "\t 24 & Mega Pidgeot     & Normal & Flying & 83 &  80 &  80 & 135 &  80 & 121 & 1 & False\\\\\n",
       "\t 25 & Rattata          & Normal &        & 30 &  56 &  35 &  25 &  35 &  72 & 1 & False\\\\\n",
       "\t 26 & Raticate         & Normal &        & 55 &  81 &  60 &  50 &  70 &  97 & 1 & False\\\\\n",
       "\t 27 & Spearow          & Normal & Flying & 40 &  60 &  30 &  31 &  31 &  70 & 1 & False\\\\\n",
       "\t 28 & Fearow           & Normal & Flying & 65 &  90 &  65 &  61 &  61 & 100 & 1 & False\\\\\n",
       "\t 29 & Ekans            & Poison &        & 35 &  60 &  44 &  40 &  54 &  55 & 1 & False\\\\\n",
       "\t 30 & Arbok            & Poison &        & 60 &  85 &  69 &  65 &  79 &  80 & 1 & False\\\\\n",
       "\t ... & ... & ... & ... & ... & ... & ... & ... & ... & ... & ... & ...\\\\\n",
       "\t 771 & Sylveon                & Fairy    &        &  95 &  65 &  65 & 110 & 130 &  60 & 6 & False\\\\\n",
       "\t 772 & Hawlucha               & Fighting & Flying &  78 &  92 &  75 &  74 &  63 & 118 & 6 & False\\\\\n",
       "\t 773 & Dedenne                & Electric & Fairy  &  67 &  58 &  57 &  81 &  67 & 101 & 6 & False\\\\\n",
       "\t 774 & Carbink                & Rock     & Fairy  &  50 &  50 & 150 &  50 & 150 &  50 & 6 & False\\\\\n",
       "\t 775 & Goomy                  & Dragon   &        &  45 &  50 &  35 &  55 &  75 &  40 & 6 & False\\\\\n",
       "\t 776 & Sliggoo                & Dragon   &        &  68 &  75 &  53 &  83 & 113 &  60 & 6 & False\\\\\n",
       "\t 777 & Goodra                 & Dragon   &        &  90 & 100 &  70 & 110 & 150 &  80 & 6 & False\\\\\n",
       "\t 778 & Klefki                 & Steel    & Fairy  &  57 &  80 &  91 &  80 &  87 &  75 & 6 & False\\\\\n",
       "\t 779 & Phantump               & Ghost    & Grass  &  43 &  70 &  48 &  50 &  60 &  38 & 6 & False\\\\\n",
       "\t 780 & Trevenant              & Ghost    & Grass  &  85 & 110 &  76 &  65 &  82 &  56 & 6 & False\\\\\n",
       "\t 781 & Pumpkaboo Average Size & Ghost    & Grass  &  49 &  66 &  70 &  44 &  55 &  51 & 6 & False\\\\\n",
       "\t 782 & Pumpkaboo Small Size   & Ghost    & Grass  &  44 &  66 &  70 &  44 &  55 &  56 & 6 & False\\\\\n",
       "\t 783 & Pumpkaboo Large Size   & Ghost    & Grass  &  54 &  66 &  70 &  44 &  55 &  46 & 6 & False\\\\\n",
       "\t 784 & Pumpkaboo Super Size   & Ghost    & Grass  &  59 &  66 &  70 &  44 &  55 &  41 & 6 & False\\\\\n",
       "\t 785 & Gourgeist Average Size & Ghost    & Grass  &  65 &  90 & 122 &  58 &  75 &  84 & 6 & False\\\\\n",
       "\t 786 & Gourgeist Small Size   & Ghost    & Grass  &  55 &  85 & 122 &  58 &  75 &  99 & 6 & False\\\\\n",
       "\t 787 & Gourgeist Large Size   & Ghost    & Grass  &  75 &  95 & 122 &  58 &  75 &  69 & 6 & False\\\\\n",
       "\t 788 & Gourgeist Super Size   & Ghost    & Grass  &  85 & 100 & 122 &  58 &  75 &  54 & 6 & False\\\\\n",
       "\t 789 & Bergmite               & Ice      &        &  55 &  69 &  85 &  32 &  35 &  28 & 6 & False\\\\\n",
       "\t 790 & Avalugg                & Ice      &        &  95 & 117 & 184 &  44 &  46 &  28 & 6 & False\\\\\n",
       "\t 791 & Noibat                 & Flying   & Dragon &  40 &  30 &  35 &  45 &  40 &  55 & 6 & False\\\\\n",
       "\t 792 & Noivern                & Flying   & Dragon &  85 &  70 &  80 &  97 &  80 & 123 & 6 & False\\\\\n",
       "\t 793 & Xerneas                & Fairy    &        & 126 & 131 &  95 & 131 &  98 &  99 & 6 & True \\\\\n",
       "\t 794 & Yveltal                & Dark     & Flying & 126 & 131 &  95 & 131 &  98 &  99 & 6 & True \\\\\n",
       "\t 795 & Zygarde Half Forme     & Dragon   & Ground & 108 & 100 & 121 &  81 &  95 &  95 & 6 & True \\\\\n",
       "\t 796 & Diancie                & Rock     & Fairy  &  50 & 100 & 150 & 100 & 150 &  50 & 6 & True \\\\\n",
       "\t 797 & Mega Diancie           & Rock     & Fairy  &  50 & 160 & 110 & 160 & 110 & 110 & 6 & True \\\\\n",
       "\t 798 & Hoopa Confined         & Psychic  & Ghost  &  80 & 110 &  60 & 150 & 130 &  70 & 6 & True \\\\\n",
       "\t 799 & Hoopa Unbound          & Psychic  & Dark   &  80 & 160 &  60 & 170 & 130 &  80 & 6 & True \\\\\n",
       "\t 800 & Volcanion              & Fire     & Water  &  80 & 110 & 120 & 130 &  90 &  70 & 6 & True \\\\\n",
       "\\end{tabular}\n"
      ],
      "text/markdown": [
       "\n",
       "A data.frame: 800 × 12\n",
       "\n",
       "| X. &lt;int&gt; | Name &lt;chr&gt; | Type.1 &lt;chr&gt; | Type.2 &lt;chr&gt; | HP &lt;int&gt; | Attack &lt;int&gt; | Defense &lt;int&gt; | Sp..Atk &lt;int&gt; | Sp..Def &lt;int&gt; | Speed &lt;int&gt; | Generation &lt;int&gt; | Legendary &lt;chr&gt; |\n",
       "|---|---|---|---|---|---|---|---|---|---|---|---|\n",
       "|  1 | Bulbasaur        | Grass  | Poison | 45 |  49 |  49 |  65 |  65 |  45 | 1 | False |\n",
       "|  2 | Ivysaur          | Grass  | Poison | 60 |  62 |  63 |  80 |  80 |  60 | 1 | False |\n",
       "|  3 | Venusaur         | Grass  | Poison | 80 |  82 |  83 | 100 | 100 |  80 | 1 | False |\n",
       "|  4 | Mega Venusaur    | Grass  | Poison | 80 | 100 | 123 | 122 | 120 |  80 | 1 | False |\n",
       "|  5 | Charmander       | Fire   | <!----> | 39 |  52 |  43 |  60 |  50 |  65 | 1 | False |\n",
       "|  6 | Charmeleon       | Fire   | <!----> | 58 |  64 |  58 |  80 |  65 |  80 | 1 | False |\n",
       "|  7 | Charizard        | Fire   | Flying | 78 |  84 |  78 | 109 |  85 | 100 | 1 | False |\n",
       "|  8 | Mega Charizard X | Fire   | Dragon | 78 | 130 | 111 | 130 |  85 | 100 | 1 | False |\n",
       "|  9 | Mega Charizard Y | Fire   | Flying | 78 | 104 |  78 | 159 | 115 | 100 | 1 | False |\n",
       "| 10 | Squirtle         | Water  | <!----> | 44 |  48 |  65 |  50 |  64 |  43 | 1 | False |\n",
       "| 11 | Wartortle        | Water  | <!----> | 59 |  63 |  80 |  65 |  80 |  58 | 1 | False |\n",
       "| 12 | Blastoise        | Water  | <!----> | 79 |  83 | 100 |  85 | 105 |  78 | 1 | False |\n",
       "| 13 | Mega Blastoise   | Water  | <!----> | 79 | 103 | 120 | 135 | 115 |  78 | 1 | False |\n",
       "| 14 | Caterpie         | Bug    | <!----> | 45 |  30 |  35 |  20 |  20 |  45 | 1 | False |\n",
       "| 15 | Metapod          | Bug    | <!----> | 50 |  20 |  55 |  25 |  25 |  30 | 1 | False |\n",
       "| 16 | Butterfree       | Bug    | Flying | 60 |  45 |  50 |  90 |  80 |  70 | 1 | False |\n",
       "| 17 | Weedle           | Bug    | Poison | 40 |  35 |  30 |  20 |  20 |  50 | 1 | False |\n",
       "| 18 | Kakuna           | Bug    | Poison | 45 |  25 |  50 |  25 |  25 |  35 | 1 | False |\n",
       "| 19 | Beedrill         | Bug    | Poison | 65 |  90 |  40 |  45 |  80 |  75 | 1 | False |\n",
       "| 20 | Mega Beedrill    | Bug    | Poison | 65 | 150 |  40 |  15 |  80 | 145 | 1 | False |\n",
       "| 21 | Pidgey           | Normal | Flying | 40 |  45 |  40 |  35 |  35 |  56 | 1 | False |\n",
       "| 22 | Pidgeotto        | Normal | Flying | 63 |  60 |  55 |  50 |  50 |  71 | 1 | False |\n",
       "| 23 | Pidgeot          | Normal | Flying | 83 |  80 |  75 |  70 |  70 | 101 | 1 | False |\n",
       "| 24 | Mega Pidgeot     | Normal | Flying | 83 |  80 |  80 | 135 |  80 | 121 | 1 | False |\n",
       "| 25 | Rattata          | Normal | <!----> | 30 |  56 |  35 |  25 |  35 |  72 | 1 | False |\n",
       "| 26 | Raticate         | Normal | <!----> | 55 |  81 |  60 |  50 |  70 |  97 | 1 | False |\n",
       "| 27 | Spearow          | Normal | Flying | 40 |  60 |  30 |  31 |  31 |  70 | 1 | False |\n",
       "| 28 | Fearow           | Normal | Flying | 65 |  90 |  65 |  61 |  61 | 100 | 1 | False |\n",
       "| 29 | Ekans            | Poison | <!----> | 35 |  60 |  44 |  40 |  54 |  55 | 1 | False |\n",
       "| 30 | Arbok            | Poison | <!----> | 60 |  85 |  69 |  65 |  79 |  80 | 1 | False |\n",
       "| ... | ... | ... | ... | ... | ... | ... | ... | ... | ... | ... | ... |\n",
       "| 771 | Sylveon                | Fairy    | <!----> |  95 |  65 |  65 | 110 | 130 |  60 | 6 | False |\n",
       "| 772 | Hawlucha               | Fighting | Flying |  78 |  92 |  75 |  74 |  63 | 118 | 6 | False |\n",
       "| 773 | Dedenne                | Electric | Fairy  |  67 |  58 |  57 |  81 |  67 | 101 | 6 | False |\n",
       "| 774 | Carbink                | Rock     | Fairy  |  50 |  50 | 150 |  50 | 150 |  50 | 6 | False |\n",
       "| 775 | Goomy                  | Dragon   | <!----> |  45 |  50 |  35 |  55 |  75 |  40 | 6 | False |\n",
       "| 776 | Sliggoo                | Dragon   | <!----> |  68 |  75 |  53 |  83 | 113 |  60 | 6 | False |\n",
       "| 777 | Goodra                 | Dragon   | <!----> |  90 | 100 |  70 | 110 | 150 |  80 | 6 | False |\n",
       "| 778 | Klefki                 | Steel    | Fairy  |  57 |  80 |  91 |  80 |  87 |  75 | 6 | False |\n",
       "| 779 | Phantump               | Ghost    | Grass  |  43 |  70 |  48 |  50 |  60 |  38 | 6 | False |\n",
       "| 780 | Trevenant              | Ghost    | Grass  |  85 | 110 |  76 |  65 |  82 |  56 | 6 | False |\n",
       "| 781 | Pumpkaboo Average Size | Ghost    | Grass  |  49 |  66 |  70 |  44 |  55 |  51 | 6 | False |\n",
       "| 782 | Pumpkaboo Small Size   | Ghost    | Grass  |  44 |  66 |  70 |  44 |  55 |  56 | 6 | False |\n",
       "| 783 | Pumpkaboo Large Size   | Ghost    | Grass  |  54 |  66 |  70 |  44 |  55 |  46 | 6 | False |\n",
       "| 784 | Pumpkaboo Super Size   | Ghost    | Grass  |  59 |  66 |  70 |  44 |  55 |  41 | 6 | False |\n",
       "| 785 | Gourgeist Average Size | Ghost    | Grass  |  65 |  90 | 122 |  58 |  75 |  84 | 6 | False |\n",
       "| 786 | Gourgeist Small Size   | Ghost    | Grass  |  55 |  85 | 122 |  58 |  75 |  99 | 6 | False |\n",
       "| 787 | Gourgeist Large Size   | Ghost    | Grass  |  75 |  95 | 122 |  58 |  75 |  69 | 6 | False |\n",
       "| 788 | Gourgeist Super Size   | Ghost    | Grass  |  85 | 100 | 122 |  58 |  75 |  54 | 6 | False |\n",
       "| 789 | Bergmite               | Ice      | <!----> |  55 |  69 |  85 |  32 |  35 |  28 | 6 | False |\n",
       "| 790 | Avalugg                | Ice      | <!----> |  95 | 117 | 184 |  44 |  46 |  28 | 6 | False |\n",
       "| 791 | Noibat                 | Flying   | Dragon |  40 |  30 |  35 |  45 |  40 |  55 | 6 | False |\n",
       "| 792 | Noivern                | Flying   | Dragon |  85 |  70 |  80 |  97 |  80 | 123 | 6 | False |\n",
       "| 793 | Xerneas                | Fairy    | <!----> | 126 | 131 |  95 | 131 |  98 |  99 | 6 | True  |\n",
       "| 794 | Yveltal                | Dark     | Flying | 126 | 131 |  95 | 131 |  98 |  99 | 6 | True  |\n",
       "| 795 | Zygarde Half Forme     | Dragon   | Ground | 108 | 100 | 121 |  81 |  95 |  95 | 6 | True  |\n",
       "| 796 | Diancie                | Rock     | Fairy  |  50 | 100 | 150 | 100 | 150 |  50 | 6 | True  |\n",
       "| 797 | Mega Diancie           | Rock     | Fairy  |  50 | 160 | 110 | 160 | 110 | 110 | 6 | True  |\n",
       "| 798 | Hoopa Confined         | Psychic  | Ghost  |  80 | 110 |  60 | 150 | 130 |  70 | 6 | True  |\n",
       "| 799 | Hoopa Unbound          | Psychic  | Dark   |  80 | 160 |  60 | 170 | 130 |  80 | 6 | True  |\n",
       "| 800 | Volcanion              | Fire     | Water  |  80 | 110 | 120 | 130 |  90 |  70 | 6 | True  |\n",
       "\n"
      ],
      "text/plain": [
       "    X.  Name                   Type.1   Type.2 HP  Attack Defense Sp..Atk\n",
       "1    1  Bulbasaur              Grass    Poison 45   49     49      65    \n",
       "2    2  Ivysaur                Grass    Poison 60   62     63      80    \n",
       "3    3  Venusaur               Grass    Poison 80   82     83     100    \n",
       "4    4  Mega Venusaur          Grass    Poison 80  100    123     122    \n",
       "5    5  Charmander             Fire            39   52     43      60    \n",
       "6    6  Charmeleon             Fire            58   64     58      80    \n",
       "7    7  Charizard              Fire     Flying 78   84     78     109    \n",
       "8    8  Mega Charizard X       Fire     Dragon 78  130    111     130    \n",
       "9    9  Mega Charizard Y       Fire     Flying 78  104     78     159    \n",
       "10  10  Squirtle               Water           44   48     65      50    \n",
       "11  11  Wartortle              Water           59   63     80      65    \n",
       "12  12  Blastoise              Water           79   83    100      85    \n",
       "13  13  Mega Blastoise         Water           79  103    120     135    \n",
       "14  14  Caterpie               Bug             45   30     35      20    \n",
       "15  15  Metapod                Bug             50   20     55      25    \n",
       "16  16  Butterfree             Bug      Flying 60   45     50      90    \n",
       "17  17  Weedle                 Bug      Poison 40   35     30      20    \n",
       "18  18  Kakuna                 Bug      Poison 45   25     50      25    \n",
       "19  19  Beedrill               Bug      Poison 65   90     40      45    \n",
       "20  20  Mega Beedrill          Bug      Poison 65  150     40      15    \n",
       "21  21  Pidgey                 Normal   Flying 40   45     40      35    \n",
       "22  22  Pidgeotto              Normal   Flying 63   60     55      50    \n",
       "23  23  Pidgeot                Normal   Flying 83   80     75      70    \n",
       "24  24  Mega Pidgeot           Normal   Flying 83   80     80     135    \n",
       "25  25  Rattata                Normal          30   56     35      25    \n",
       "26  26  Raticate               Normal          55   81     60      50    \n",
       "27  27  Spearow                Normal   Flying 40   60     30      31    \n",
       "28  28  Fearow                 Normal   Flying 65   90     65      61    \n",
       "29  29  Ekans                  Poison          35   60     44      40    \n",
       "30  30  Arbok                  Poison          60   85     69      65    \n",
       "... ... ...                    ...      ...    ... ...    ...     ...    \n",
       "771 771 Sylveon                Fairy            95  65     65     110    \n",
       "772 772 Hawlucha               Fighting Flying  78  92     75      74    \n",
       "773 773 Dedenne                Electric Fairy   67  58     57      81    \n",
       "774 774 Carbink                Rock     Fairy   50  50    150      50    \n",
       "775 775 Goomy                  Dragon           45  50     35      55    \n",
       "776 776 Sliggoo                Dragon           68  75     53      83    \n",
       "777 777 Goodra                 Dragon           90 100     70     110    \n",
       "778 778 Klefki                 Steel    Fairy   57  80     91      80    \n",
       "779 779 Phantump               Ghost    Grass   43  70     48      50    \n",
       "780 780 Trevenant              Ghost    Grass   85 110     76      65    \n",
       "781 781 Pumpkaboo Average Size Ghost    Grass   49  66     70      44    \n",
       "782 782 Pumpkaboo Small Size   Ghost    Grass   44  66     70      44    \n",
       "783 783 Pumpkaboo Large Size   Ghost    Grass   54  66     70      44    \n",
       "784 784 Pumpkaboo Super Size   Ghost    Grass   59  66     70      44    \n",
       "785 785 Gourgeist Average Size Ghost    Grass   65  90    122      58    \n",
       "786 786 Gourgeist Small Size   Ghost    Grass   55  85    122      58    \n",
       "787 787 Gourgeist Large Size   Ghost    Grass   75  95    122      58    \n",
       "788 788 Gourgeist Super Size   Ghost    Grass   85 100    122      58    \n",
       "789 789 Bergmite               Ice              55  69     85      32    \n",
       "790 790 Avalugg                Ice              95 117    184      44    \n",
       "791 791 Noibat                 Flying   Dragon  40  30     35      45    \n",
       "792 792 Noivern                Flying   Dragon  85  70     80      97    \n",
       "793 793 Xerneas                Fairy           126 131     95     131    \n",
       "794 794 Yveltal                Dark     Flying 126 131     95     131    \n",
       "795 795 Zygarde Half Forme     Dragon   Ground 108 100    121      81    \n",
       "796 796 Diancie                Rock     Fairy   50 100    150     100    \n",
       "797 797 Mega Diancie           Rock     Fairy   50 160    110     160    \n",
       "798 798 Hoopa Confined         Psychic  Ghost   80 110     60     150    \n",
       "799 799 Hoopa Unbound          Psychic  Dark    80 160     60     170    \n",
       "800 800 Volcanion              Fire     Water   80 110    120     130    \n",
       "    Sp..Def Speed Generation Legendary\n",
       "1    65      45   1          False    \n",
       "2    80      60   1          False    \n",
       "3   100      80   1          False    \n",
       "4   120      80   1          False    \n",
       "5    50      65   1          False    \n",
       "6    65      80   1          False    \n",
       "7    85     100   1          False    \n",
       "8    85     100   1          False    \n",
       "9   115     100   1          False    \n",
       "10   64      43   1          False    \n",
       "11   80      58   1          False    \n",
       "12  105      78   1          False    \n",
       "13  115      78   1          False    \n",
       "14   20      45   1          False    \n",
       "15   25      30   1          False    \n",
       "16   80      70   1          False    \n",
       "17   20      50   1          False    \n",
       "18   25      35   1          False    \n",
       "19   80      75   1          False    \n",
       "20   80     145   1          False    \n",
       "21   35      56   1          False    \n",
       "22   50      71   1          False    \n",
       "23   70     101   1          False    \n",
       "24   80     121   1          False    \n",
       "25   35      72   1          False    \n",
       "26   70      97   1          False    \n",
       "27   31      70   1          False    \n",
       "28   61     100   1          False    \n",
       "29   54      55   1          False    \n",
       "30   79      80   1          False    \n",
       "... ...     ...   ...        ...      \n",
       "771 130      60   6          False    \n",
       "772  63     118   6          False    \n",
       "773  67     101   6          False    \n",
       "774 150      50   6          False    \n",
       "775  75      40   6          False    \n",
       "776 113      60   6          False    \n",
       "777 150      80   6          False    \n",
       "778  87      75   6          False    \n",
       "779  60      38   6          False    \n",
       "780  82      56   6          False    \n",
       "781  55      51   6          False    \n",
       "782  55      56   6          False    \n",
       "783  55      46   6          False    \n",
       "784  55      41   6          False    \n",
       "785  75      84   6          False    \n",
       "786  75      99   6          False    \n",
       "787  75      69   6          False    \n",
       "788  75      54   6          False    \n",
       "789  35      28   6          False    \n",
       "790  46      28   6          False    \n",
       "791  40      55   6          False    \n",
       "792  80     123   6          False    \n",
       "793  98      99   6          True     \n",
       "794  98      99   6          True     \n",
       "795  95      95   6          True     \n",
       "796 150      50   6          True     \n",
       "797 110     110   6          True     \n",
       "798 130      70   6          True     \n",
       "799 130      80   6          True     \n",
       "800  90      70   6          True     "
      ]
     },
     "metadata": {},
     "output_type": "display_data"
    }
   ],
   "source": [
    "data = read.csv('pokemon.csv')\n",
    "data"
   ]
  },
  {
   "cell_type": "markdown",
   "metadata": {},
   "source": [
    "Para empezar a trabajar ya con los datos lo que haremos sera trabajar con una sola variable numérica. En este caso trabajaremos solo con los valores `Attack` es decir analizaremos la siguiente data"
   ]
  },
  {
   "cell_type": "code",
   "execution_count": 7,
   "metadata": {},
   "outputs": [],
   "source": [
    "ataque = data$Attack"
   ]
  },
  {
   "cell_type": "markdown",
   "metadata": {},
   "source": [
    "Ver los datos de esta forma es muy incomodo pues no se ve alguna tendencia o repetición de los datos. Por tanto es adecuado agruparlo en una tabla de frecuencias.\n",
    "\n",
    "**Definición**: Se le llama _frecuencia_ de un dato a la cantidad de veces que se repite cierto dato, y se denota por la letra minuscula $f$.\n",
    "\n",
    "**Definición**: Una _tabla de frecuencias_ corresponde a agrupar los datos en dos columnas. En la primera estan los datos y en la segunda va la cantidad la frecuencia del dato.\n",
    "\n",
    "En R esta tabla se puede obtener mediante la función `table(#base de datos)`."
   ]
  },
  {
   "cell_type": "code",
   "execution_count": 8,
   "metadata": {},
   "outputs": [
    {
     "data": {
      "text/plain": [
       "ataque\n",
       "  5  10  15  20  22  23  24  25  27  29  30  33  35  36  38  40  41  42  43  44 \n",
       "  2   3   1   8   1   1   1   7   1   1  20   1  13   1   3  21   2   1   1   1 \n",
       " 45  46  47  48  49  50  51  52  53  54  55  56  57  58  59  60  61  62  63  64 \n",
       " 27   1   3   9   3  37   2   7   5   1  30   3   2   4   3  33   2   4   6   5 \n",
       " 65  66  67  68  69  70  71  72  73  74  75  76  77  78  79  80  81  82  83  84 \n",
       " 39   7   2   3   4  31   1   7   5   1  32   4   4   4   1  37   3   6   4   5 \n",
       " 85  86  87  88  89  90  91  92  93  94  95  97  98 100 102 103 104 105 106 107 \n",
       " 33   2   2   1   3  30   1   7   2   2  26   1   3  40   1   3   3  17   1   1 \n",
       "108 109 110 112 115 117 120 121 123 124 125 128 129 130 131 132 134 135 136 140 \n",
       "  1   2  18   2   9   3  21   1   3   2  14   1   1  14   2   1   2   6   1   6 \n",
       "145 147 150 155 160 164 165 170 180 185 190 \n",
       "  4   1  11   2   5   1   3   2   3   1   1 "
      ]
     },
     "metadata": {},
     "output_type": "display_data"
    }
   ],
   "source": [
    "table(ataque)"
   ]
  },
  {
   "cell_type": "markdown",
   "metadata": {},
   "source": [
    "Esta tabla indica cuantas veces se repite un cierto dato. Por ejemplo existen 7 pokemones cuyo valor de `Attack` es 7."
   ]
  },
  {
   "cell_type": "markdown",
   "metadata": {},
   "source": [
    "# Visualización de los datos"
   ]
  },
  {
   "cell_type": "markdown",
   "metadata": {},
   "source": [
    "La visualización de los datos es una parte muy importante, puesto que es una forma muy simple de tener alguna idea del comportamiento de los datos. Además resume de forma muy apropiada la información para todo publico, pero aún así existen personas que utilizan de forma erronea los graficos y hacen sacar falsas conclusiones a las personas que ven los graficos. Como por ejemplo el siguiente grafico:\n",
    "\n",
    "<img src=\"https://media.biobiochile.cl/wp-content/uploads/2017/11/grafico-sebastian-piera-victimizacion-730x350.jpg\" alt=\"\" align=\"middle\"/>\n",
    "\n",
    "**¿Cúal es el problema de este gráfico?** \n",
    "\n",
    "Veamos otro gráfico:\n",
    "\n",
    "![covid](covid.jpg)\n",
    "\n",
    "**¿Cúal es el problema de este gráfico?** \n",
    "\n",
    "Es importante elegir el gráfico adecuado dependiendo de cada contexto y además poder saber cuando un gráfico entrega una información adecuada o no.\n",
    "\n",
    "A continuación presentamos varias formas de visualizar los datos en R. Las funciones para hacer gráficos son:\n",
    "* `plot(datos)`\n",
    "* `plot(table(datos))`\n",
    "* `hist(datos)`\n",
    "* `hist(table(datos))`\n",
    "* `pairs(table(datos))`\n",
    "* `pie(datos)`\n",
    "* `pie(table(datos))`"
   ]
  },
  {
   "cell_type": "code",
   "execution_count": 9,
   "metadata": {},
   "outputs": [
    {
     "data": {
      "image/png": "[encoded data removed]",
      "text/plain": [
       "plot without title"
      ]
     },
     "metadata": {
      "image/png": {
       "height": 420,
       "width": 420
      }
     },
     "output_type": "display_data"
    }
   ],
   "source": [
    "plot(ataque)"
   ]
  },
  {
   "cell_type": "code",
   "execution_count": 10,
   "metadata": {},
   "outputs": [
    {
     "data": {
      "image/png": "[encoded data removed]",
      "text/plain": [
       "Plot with title \"Histogram of ataque\""
      ]
     },
     "metadata": {
      "image/png": {
       "height": 420,
       "width": 420
      }
     },
     "output_type": "display_data"
    }
   ],
   "source": [
    "hist(ataque)"
   ]
  },
  {
   "cell_type": "code",
   "execution_count": 12,
   "metadata": {},
   "outputs": [
    {
     "data": {
      "image/png": "[encoded data removed]",
      "text/plain": [
       "plot without title"
      ]
     },
     "metadata": {
      "image/png": {
       "height": 420,
       "width": 420
      }
     },
     "output_type": "display_data"
    }
   ],
   "source": [
    "pie(table(ataque))"
   ]
  },
  {
   "cell_type": "markdown",
   "metadata": {},
   "source": [
    "Estoy son los graficos mas simples de hacer en el lenguaje del R, existen mas tipos de graficos y mas atractivos visualmente pero en este curso se utilizaran los que acabamos de mostrar. Por otro lado viendo los graficos podemos realizar dos preguntas\n",
    "* ¿Cúal grafico prefieres?\n",
    "* ¿Por qué lo prefieres?"
   ]
  },
  {
   "cell_type": "markdown",
   "metadata": {},
   "source": [
    "Veamos que ocurre si el conjunto de datos es distinto, para ello trabajaremos con la variable `Legendary` de la base de datos."
   ]
  },
  {
   "cell_type": "code",
   "execution_count": 16,
   "metadata": {},
   "outputs": [],
   "source": [
    "legendario = data$Legendary"
   ]
  },
  {
   "cell_type": "markdown",
   "metadata": {},
   "source": [
    "Primero veamos la tabla de frecuencias:"
   ]
  },
  {
   "cell_type": "code",
   "execution_count": 18,
   "metadata": {},
   "outputs": [
    {
     "data": {
      "text/plain": [
       "legendario\n",
       "False  True \n",
       "  735    65 "
      ]
     },
     "metadata": {},
     "output_type": "display_data"
    }
   ],
   "source": [
    "table(legendario)"
   ]
  },
  {
   "cell_type": "markdown",
   "metadata": {},
   "source": [
    "Ahora los gráficos que se pueden realizar."
   ]
  },
  {
   "cell_type": "code",
   "execution_count": 19,
   "metadata": {},
   "outputs": [
    {
     "name": "stderr",
     "output_type": "stream",
     "text": [
      "Warning message in xy.coords(x, y, xlabel, ylabel, log):\n",
      "\"NAs introducidos por coerción\"\n",
      "Warning message in min(x):\n",
      "\"ningún argumento finito para min; retornando Inf\"\n",
      "Warning message in max(x):\n",
      "\"ningun argumento finito para max; retornando -Inf\"\n"
     ]
    },
    {
     "ename": "ERROR",
     "evalue": "Error in plot.window(...): se necesitan valores finitos de 'ylim'\n",
     "output_type": "error",
     "traceback": [
      "Error in plot.window(...): se necesitan valores finitos de 'ylim'\nTraceback:\n",
      "1. plot(legendario)",
      "2. plot.default(legendario)",
      "3. localWindow(xlim, ylim, log, asp, ...)",
      "4. plot.window(...)"
     ]
    },
    {
     "data": {
      "image/png": "[encoded data removed]",
      "text/plain": [
       "plot without title"
      ]
     },
     "metadata": {
      "image/png": {
       "height": 420,
       "width": 420
      }
     },
     "output_type": "display_data"
    }
   ],
   "source": [
    "plot(legendario)"
   ]
  },
  {
   "cell_type": "code",
   "execution_count": 20,
   "metadata": {},
   "outputs": [
    {
     "ename": "ERROR",
     "evalue": "Error in hist.default(legendario): 'x' must be numeric\n",
     "output_type": "error",
     "traceback": [
      "Error in hist.default(legendario): 'x' must be numeric\nTraceback:\n",
      "1. hist(legendario)",
      "2. hist.default(legendario)",
      "3. stop(\"'x' must be numeric\")"
     ]
    }
   ],
   "source": [
    "hist(legendario)"
   ]
  },
  {
   "cell_type": "markdown",
   "metadata": {},
   "source": [
    "El histograma tira un error pues la entrada de la función `hist` deben ser números!"
   ]
  },
  {
   "cell_type": "code",
   "execution_count": 22,
   "metadata": {},
   "outputs": [
    {
     "data": {
      "image/png": "[encoded data removed]",
      "text/plain": [
       "plot without title"
      ]
     },
     "metadata": {
      "image/png": {
       "height": 420,
       "width": 420
      }
     },
     "output_type": "display_data"
    }
   ],
   "source": [
    "pie(table(legendario))"
   ]
  },
  {
   "cell_type": "code",
   "execution_count": 26,
   "metadata": {},
   "outputs": [
    {
     "data": {
      "image/png": "[encoded data removed]",
      "text/plain": [
       "plot without title"
      ]
     },
     "metadata": {
      "image/png": {
       "height": 420,
       "width": 420
      }
     },
     "output_type": "display_data"
    }
   ],
   "source": [
    "barplot(table(legendario))"
   ]
  },
  {
   "cell_type": "markdown",
   "metadata": {},
   "source": [
    "Aquí el error es que para usar la función `pie` se requieren datos numericos o en su defecto una tabla de frecuencias."
   ]
  },
  {
   "cell_type": "code",
   "execution_count": 45,
   "metadata": {},
   "outputs": [
    {
     "data": {
      "image/png": "[encoded data removed]",
      "text/plain": [
       "Plot with title \"Gráfico de Torta\""
      ]
     },
     "metadata": {
      "image/png": {
       "height": 420,
       "width": 420
      }
     },
     "output_type": "display_data"
    }
   ],
   "source": [
    "pie(table(Legendario),col=c('red','blue'),main='Gráfico de Torta')"
   ]
  },
  {
   "cell_type": "markdown",
   "metadata": {},
   "source": [
    "De la misma forma que con los datos anteriores.\n",
    "* ¿Cúal grafico prefieres?\n",
    "* ¿Por qué lo prefieres?"
   ]
  },
  {
   "cell_type": "markdown",
   "metadata": {},
   "source": [
    "# Medidas \n",
    "## Medidas de tendencia central"
   ]
  },
  {
   "cell_type": "markdown",
   "metadata": {},
   "source": [
    "Las medidas de tendencia central son una forma de resumir la información de un conjunto de datos mediante un número o dato. Estas medidas son:\n",
    "* **Promedio o media muestral**: Corresponde a sumar todos los datos y dividirlos por el total de datos, es decir, si el conjunto de datos es $x_1,x_2,...,x_n$ entonces tenemos que el promedio denotado por $\\bar{x}$ viene dado por:\n",
    "$$\n",
    "    \\bar{x} = \\dfrac{1}{n}\\sum_{i=1}^n x_i \n",
    "$$\n",
    "en R el comando para calcular el promedio es `mean(datos)`. Por ejemplo para los dos conjuntos de datos anteriores tenemos que:"
   ]
  },
  {
   "cell_type": "code",
   "execution_count": 27,
   "metadata": {},
   "outputs": [
    {
     "data": {
      "text/html": [
       "79.00125"
      ],
      "text/latex": [
       "79.00125"
      ],
      "text/markdown": [
       "79.00125"
      ],
      "text/plain": [
       "[1] 79.00125"
      ]
     },
     "metadata": {},
     "output_type": "display_data"
    }
   ],
   "source": [
    "mean(ataque)"
   ]
  },
  {
   "cell_type": "code",
   "execution_count": 28,
   "metadata": {},
   "outputs": [
    {
     "name": "stderr",
     "output_type": "stream",
     "text": [
      "Warning message in mean.default(legendario):\n",
      "\"argument is not numeric or logical: returning NA\"\n"
     ]
    },
    {
     "data": {
      "text/html": [
       "&lt;NA&gt;"
      ],
      "text/latex": [
       "<NA>"
      ],
      "text/markdown": [
       "&lt;NA&gt;"
      ],
      "text/plain": [
       "[1] NA"
      ]
     },
     "metadata": {},
     "output_type": "display_data"
    }
   ],
   "source": [
    "mean(legendario)"
   ]
  },
  {
   "cell_type": "markdown",
   "metadata": {},
   "source": [
    "    Notemos que no tiene sentido un promedio para los datos `Legendario` puesto que son verdaderos y falsos."
   ]
  },
  {
   "cell_type": "markdown",
   "metadata": {},
   "source": [
    "* **Mediana**: Corresponde al dato en la posición central si es que los datos estan ordenados de menor a mayor. Para obtenerlo se debe usar el comando `median(data)`. Por ejemplo para los dos conjuntos de datos anteriores tenemos que:"
   ]
  },
  {
   "cell_type": "code",
   "execution_count": 29,
   "metadata": {},
   "outputs": [
    {
     "data": {
      "text/html": [
       "75"
      ],
      "text/latex": [
       "75"
      ],
      "text/markdown": [
       "75"
      ],
      "text/plain": [
       "[1] 75"
      ]
     },
     "metadata": {},
     "output_type": "display_data"
    }
   ],
   "source": [
    "median(ataque)"
   ]
  },
  {
   "cell_type": "code",
   "execution_count": 30,
   "metadata": {},
   "outputs": [
    {
     "name": "stderr",
     "output_type": "stream",
     "text": [
      "Warning message in mean.default(sort(x, partial = half + 0L:1L)[half + 0L:1L]):\n",
      "\"argument is not numeric or logical: returning NA\"\n"
     ]
    },
    {
     "data": {
      "text/html": [
       "&lt;NA&gt;"
      ],
      "text/latex": [
       "<NA>"
      ],
      "text/markdown": [
       "&lt;NA&gt;"
      ],
      "text/plain": [
       "[1] NA"
      ]
     },
     "metadata": {},
     "output_type": "display_data"
    }
   ],
   "source": [
    "median(legendario)"
   ]
  },
  {
   "cell_type": "markdown",
   "metadata": {},
   "source": [
    "    Notemos que Legendario al no ser una variable con orden no tiene sentido obtener el dato de la posición central. Por tanto nos tira error el R"
   ]
  },
  {
   "cell_type": "markdown",
   "metadata": {},
   "source": [
    "* **Moda**: corresponde al dato que mas se repite. En el R se puede obtener mediante el maximo de las frecuencias. Para calcularla en R se necesita *instalar una librería* mediante la función `install.packages(\"modeest\")`. Una vez instalada en tu computadora debes incluirla en tu codigo mediandte la función `library(modeest)`.Finalmente luego utlizar el comando `mlv(datos)`"
   ]
  },
  {
   "cell_type": "code",
   "execution_count": 33,
   "metadata": {},
   "outputs": [],
   "source": [
    "# install.packages(\"modeest\") \n",
    "library(modeest)"
   ]
  },
  {
   "cell_type": "code",
   "execution_count": 35,
   "metadata": {},
   "outputs": [
    {
     "data": {
      "text/html": [
       "100"
      ],
      "text/latex": [
       "100"
      ],
      "text/markdown": [
       "100"
      ],
      "text/plain": [
       "[1] 100"
      ]
     },
     "metadata": {},
     "output_type": "display_data"
    }
   ],
   "source": [
    "mlv(ataque)"
   ]
  },
  {
   "cell_type": "code",
   "execution_count": 37,
   "metadata": {},
   "outputs": [
    {
     "data": {
      "text/html": [
       "'False'"
      ],
      "text/latex": [
       "'False'"
      ],
      "text/markdown": [
       "'False'"
      ],
      "text/plain": [
       "[1] \"False\""
      ]
     },
     "metadata": {},
     "output_type": "display_data"
    }
   ],
   "source": [
    "mlv(legendario)"
   ]
  },
  {
   "cell_type": "markdown",
   "metadata": {},
   "source": [
    "## Medidas de dispersión"
   ]
  },
  {
   "cell_type": "markdown",
   "metadata": {},
   "source": [
    "**Definición:** Una medida de dispersión es una función de los datos cuyo objetivo es medir que distintos son los datos entre si. La principal y mas común medida de dispersión es la varianza.\n",
    "\n",
    "Supongamos que tenemos los siguientes conjuntos de datos:\n",
    "* base_1 = {-1,0,1}\n",
    "* base_2 = {-2,0,2}\n",
    "\n",
    "Para ingresar datos manualmente se debe ocupar la función `c(dato_1,dato_2,...,dato_n)` de esta forma los datos seran guardados en un vector. Básicamente obtendremos un vector con los datos.\n",
    "Ahora veremos sus plots:"
   ]
  },
  {
   "cell_type": "markdown",
   "metadata": {},
   "source": [
    "Entonces viendo sólo los gráficos podriamos preguntarnos que base de datos presenta una mayor variabilidad. Ahora para poder responder esta pregunta mediante un estadístico.\n",
    "\n",
    "**Definición:** Dado un conjunto de datos $x_1,...,x_n$ se define la varianza muestral como:\n",
    "$$\n",
    "S^2 = \\dfrac{1}{n-1} \\sum_{i=1}^n (x_i-\\bar{x})^2\n",
    "$$\n",
    "En el R se puede obtener mediante la función `var(datos)`.\n",
    "\n",
    "**Definición:** Dado un conjunto de datos $x_1,...,x_n$ se define la desviación estandar de este conjunto de datos como:\n",
    "$$\n",
    "S = \\sqrt{S^2}\n",
    "$$\n",
    "En el R se puede obtener mediante la función `sd(datos)`.\n",
    "\n",
    "**Interpretación** El conjunto de datos con menor varianza o desviación estandar tiene menor variabilidad en sus datos; en otras palabras \n",
    "* _Mientras mas pequeña sea la varianza los datos suelen ser mas parecidos._\n",
    "* _Mientras que si la varianza es grande entonces los datos suelen ser muy distintos._\n",
    "\n",
    "Utilizando la interpretación deberiamos concluir que `base_2` tiene mayor varianza que la `base_1` puesto que la distancia entre los datos es mayor en la `base_2` que en la `base_1`. Revisemos con el R"
   ]
  },
  {
   "cell_type": "code",
   "execution_count": 50,
   "metadata": {},
   "outputs": [
    {
     "name": "stdout",
     "output_type": "stream",
     "text": [
      "[1] 1\n",
      "[1] 2\n"
     ]
    }
   ],
   "source": [
    "print(sd(base_1))\n",
    "print(sd(base_2))"
   ]
  },
  {
   "cell_type": "markdown",
   "metadata": {},
   "source": [
    "### Ejemplo: Análisis de la Variable `Attack` vs la Variable `Defense`\n",
    "Dada la base de datos; nos gustaria sacar conclusiones de la variable `Attack` y `Defense`, para ello realizaremos un análisis descriptivo de la variable `Attack` vs la variable `Defense`. Entonces en primer lugar realizaremos un gráfico adecuado. Como son muchos datos distintos lo mas adecuado seria realizar un histograma."
   ]
  },
  {
   "cell_type": "code",
   "execution_count": 47,
   "metadata": {},
   "outputs": [],
   "source": [
    "Defensa = data$Defense"
   ]
  },
  {
   "cell_type": "code",
   "execution_count": 48,
   "metadata": {},
   "outputs": [
    {
     "data": {
      "image/png": "[encoded data removed]",
      "text/plain": [
       "Plot with title “Histograma de la variable Attack”"
      ]
     },
     "metadata": {
      "image/png": {
       "height": 420,
       "width": 420
      }
     },
     "output_type": "display_data"
    },
    {
     "data": {
      "image/png": "[encoded data removed]",
      "text/plain": [
       "Plot with title “Histograma de la variable Defense”"
      ]
     },
     "metadata": {
      "image/png": {
       "height": 420,
       "width": 420
      }
     },
     "output_type": "display_data"
    }
   ],
   "source": [
    "hist(Ataque,col='blue',xlab='Puntos de Ataque',ylab='Frecuencia',main='Histograma de la variable Attack')\n",
    "hist(Defensa,col='red',xlab='Puntos de Defensa',ylab='Frecuencia',main='Histograma de la variable Defense')"
   ]
  },
  {
   "cell_type": "markdown",
   "metadata": {},
   "source": [
    "Viendo el gráfico podemos concluir que los puntos de `Attack` y `Defense` son mayoritarios entre 50 y 100 puntos. Ahora podemos determinar también las medidas de tendencia central. \n",
    "\n",
    "Para el `Attack`:"
   ]
  },
  {
   "cell_type": "code",
   "execution_count": 49,
   "metadata": {},
   "outputs": [
    {
     "name": "stdout",
     "output_type": "stream",
     "text": [
      "[1] \"La media muestral es:\"\n",
      "[1] 79.00125\n",
      "[1] \"La mediana es:\"\n",
      "[1] 75\n",
      "[1] \"y la moda es:\"\n",
      "[1] 100\n"
     ]
    }
   ],
   "source": [
    "print('La media muestral es:')\n",
    "print(mean(Ataque))\n",
    "print('La mediana es:')\n",
    "print(median(Ataque))\n",
    "print('y la moda es:')\n",
    "print(mlv(Ataque))"
   ]
  },
  {
   "cell_type": "markdown",
   "metadata": {},
   "source": [
    "Para la `Defense`:"
   ]
  },
  {
   "cell_type": "code",
   "execution_count": 50,
   "metadata": {},
   "outputs": [
    {
     "name": "stdout",
     "output_type": "stream",
     "text": [
      "[1] \"La media muestral es:\"\n",
      "[1] 73.8425\n",
      "[1] \"La mediana es:\"\n",
      "[1] 70\n",
      "[1] \"y la moda es:\"\n",
      "[1] 70\n"
     ]
    }
   ],
   "source": [
    "print('La media muestral es:')\n",
    "print(mean(Defensa))\n",
    "print('La mediana es:')\n",
    "print(median(Defensa))\n",
    "print('y la moda es:')\n",
    "print(mlv(Defensa))"
   ]
  },
  {
   "cell_type": "markdown",
   "metadata": {},
   "source": [
    "Por otro lado veamos las medidas de dispersión.\n",
    "\n",
    "Para el `Attack`:"
   ]
  },
  {
   "cell_type": "code",
   "execution_count": 51,
   "metadata": {},
   "outputs": [
    {
     "name": "stdout",
     "output_type": "stream",
     "text": [
      "[1] \"La varianza muestral es:\"\n",
      "[1] 1053.481\n",
      "[1] \"La desviación estandar es:\"\n",
      "[1] 32.45737\n"
     ]
    }
   ],
   "source": [
    "print('La varianza muestral es:')\n",
    "print(var(Ataque))\n",
    "print('La desviación estandar es:')\n",
    "print(sd(Ataque))"
   ]
  },
  {
   "cell_type": "markdown",
   "metadata": {},
   "source": [
    "Para la `Defense`:"
   ]
  },
  {
   "cell_type": "code",
   "execution_count": 52,
   "metadata": {},
   "outputs": [
    {
     "name": "stdout",
     "output_type": "stream",
     "text": [
      "[1] \"La varianza muestral es:\"\n",
      "[1] 972.4107\n",
      "[1] \"La desviación estandar es:\"\n",
      "[1] 31.1835\n"
     ]
    }
   ],
   "source": [
    "print('La varianza muestral es:')\n",
    "print(var(Defensa))\n",
    "print('La desviación estandar es:')\n",
    "print(sd(Defensa))"
   ]
  },
  {
   "cell_type": "markdown",
   "metadata": {},
   "source": [
    "#### Conclusiones comparativas:\n",
    "En general las variables tienen un comportamiento bastante similar. Pero tienen las siguientes discrepancias:\n",
    "* La variable `Defense` es mas 'centrada' que la variable `Attack` puesto que la media,moda y mediana son muy similares. Mientras que en el caso de la variable `Attack` La moda discrepa de las otras medidas de tendencia central.\n",
    "* La variabilidad de `Attack` es mayor que la variabilidad de `Defense`."
   ]
  },
  {
   "cell_type": "markdown",
   "metadata": {},
   "source": [
    "## Otras definiciones\n",
    "**Rango:** Corresponde a la diferencia entre el dato mayor y el dato menor."
   ]
  },
  {
   "cell_type": "markdown",
   "metadata": {},
   "source": [
    "Obtenga la suma del promedio de `Attack` con la desviación estandar de `Defense` de los pokemones que cumplan que la variable `Generation` sea mayor o igual a 5"
   ]
  },
  {
   "cell_type": "code",
   "execution_count": 55,
   "metadata": {},
   "outputs": [
    {
     "data": {
      "text/html": [
       "254"
      ],
      "text/latex": [
       "254"
      ],
      "text/markdown": [
       "254"
      ],
      "text/plain": [
       "[1] 254"
      ]
     },
     "metadata": {},
     "output_type": "display_data"
    }
   ],
   "source": [
    "max(data$HP) - min(data$HP)"
   ]
  }
 ],
 "metadata": {
  "kernelspec": {
   "display_name": "R",
   "language": "R",
   "name": "ir"
  },
  "language_info": {
   "codemirror_mode": "r",
   "file_extension": ".r",
   "mimetype": "text/x-r-source",
   "name": "R",
   "pygments_lexer": "r",
   "version": "4.0.4"
  }
 },
 "nbformat": 4,
 "nbformat_minor": 4
}
