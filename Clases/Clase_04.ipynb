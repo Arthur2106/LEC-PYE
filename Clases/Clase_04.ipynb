{
 "cells": [
  {
   "cell_type": "markdown",
   "metadata": {},
   "source": [
    "<img src=\"https://www.promocionachile.cl/img/logos/uai.JPG\" width=\"400\" alt=\"utfsm-logo\" align=\"left\"/>"
   ]
  },
  {
   "cell_type": "markdown",
   "metadata": {},
   "source": [
    "# LEC de Probabilidad y Estadística, Viña del mar.\n",
    "## Clase 04\n",
    "### Profesor: Fabián Ramírez\n",
    "\n",
    "# Objetivos:\n",
    "* Variables Aleatorias\n",
    "* Seudo Aleatoriedad\n",
    "* Simulación, predicción y caracterización de:\n",
    "    * Distribución Bernulli\n",
    "    * Distribución Binomial\n",
    "    * Distribución Poisson\n",
    "    * Distribución Normal\n",
    "\n",
    "## Variables Aleatorias\n",
    "\n",
    "**Definición:** una variable aleatoria (v.a.) es una función cuyo dominio es un conjunto de eventos posibles y su recorrido es un subconjunto de los números reales. Existen dos tipos de variables aleatorias.\n",
    "* Discreto: si su recorrido es númerable (ya sea finito o infinito)\n",
    "* Continuo: si su recorrido es un sub-intervalo de $\\mathbb{R}$\n",
    "\n"
   ]
  },
  {
   "cell_type": "markdown",
   "metadata": {},
   "source": [
    "**Definición:** Sea $X$ una v.a., se define su **función de distribución acumulada** como\n",
    "$$\n",
    "F_{X}(x)=\\mathbb{P}(X \\leq x)\n",
    "$$\n",
    "la cual cumple con las siguientes propiedades:\n",
    "* $\\displaystyle \\lim _{x \\rightarrow-\\infty} F_{X}(x)=0$\n",
    "* $\\displaystyle \\lim _{x \\rightarrow+\\infty} F_{X}(x)=1$\n",
    "* $F_{X}(x)$ es una función no decreciente y continua a la derecha\n",
    "\n",
    "**Definición:** Sea $X$ una v.a. discreta, se define su función de cuantía o masa de probabilidad como:\n",
    "$$\n",
    "f_{X}(x)=\\mathbb{P}(X = x)\n",
    "$$\n",
    "la cual cumple las siguientes propiedades:\n",
    "* $f_X(x) \\geq 0, \\forall x \\in \\mathbb{R}$\n",
    "* $\\displaystyle \\sum_{x \\in \\mathcal{R}_{X}} f_{X}(x)=1$\n",
    "* $f_X(x) = F_X(x) - F_X(x-1)$\n",
    "\n",
    "En el caso de una v.a. $X$ continua, su recorrido es no-numerable, y luego las probabilidades puntuales\n",
    "son nulas, es decir, $\\mathbb{P}(X = x) = 0, \\forall x \\in \\mathbb{R}$. En este caso, la función de cuantía es reemplazada por la\n",
    "función de densidad de probabilidad definida a continuación.\n",
    "\n",
    "**Definición:** Sea $X$ una v.a. continua, entonces $f_X(x)$ es una función de densidad de probabilidad para la v.a. $X$, si satisface las siguientes propiedades:\n",
    "* $f_X(x) \\geq 0, \\forall x \\in \\mathbb{R}$\n",
    "* $\\int_{x\\in \\mathcal{R}_X} f_X(x) dx = 1$"
   ]
  },
  {
   "cell_type": "markdown",
   "metadata": {},
   "source": [
    "## Modelos Discretos Especiales\n",
    "### Bernulli\n",
    "Un experimento Bernoulli es aquel experimento que sólo tiene dos posibles resultados. Por ejemplo, al realizar una tarea, podríamos obtener éxito o fracaso con una cierta probabilidad asociada, o al extraer artículos de una muestra, el resultado podría ser un artículo defectuoso o no defectuoso.\n",
    "\n",
    "Formalmente, sea $X$ una v.a. tal que $\\mathcal{P}(X = 1) = p$ y $\\mathcal{P}(X = 0) = 1 - p$, donde $0 \\leq p \\leq 1$. Entonces,\n",
    "$X$ se llama una v.a. Bernoulli con parámetro $p$, y se denota por $X \\sim Ber(p)$. De este modo, $p$ puede\n",
    "interpretarse como la probabilidad de obtener un éxito en el experimento. La probabilidad de fracaso,\n",
    "en cambio, es $(1 - p)$. Como ambas probabilidades suman 1, estos son los únicos posibles resultados del\n",
    "experimento.\n",
    "\n",
    "**Propiedades:** Sea $X \\sim Ber(p)$, entonces:\n",
    "* E($X$) = $p$\n",
    "* V($X$) = $p(1 − p)$"
   ]
  },
  {
   "cell_type": "markdown",
   "metadata": {},
   "source": [
    "#### Números seudo aleatorios\n",
    "##### Fijar una semilla\n",
    "En teoría generar números alearotios es imposible mediante una computadora, lo que si se puede hacer es generar números seudo aleatorios. Por ejemplo supongamos que tenemos datos númerados del 1 al 100 y me gustaria obtener una muestra aleatoria de tamaño 10. Para ello se utiliza la función `sample`."
   ]
  },
  {
   "cell_type": "code",
   "execution_count": 4,
   "metadata": {},
   "outputs": [
    {
     "data": {
      "text/html": [
       "<style>\n",
       ".list-inline {list-style: none; margin:0; padding: 0}\n",
       ".list-inline>li {display: inline-block}\n",
       ".list-inline>li:not(:last-child)::after {content: \"\\00b7\"; padding: 0 .5ex}\n",
       "</style>\n",
       "<ol class=list-inline><li>1</li><li>2</li><li>3</li><li>4</li><li>5</li><li>6</li><li>7</li><li>8</li><li>9</li><li>10</li></ol>\n"
      ],
      "text/latex": [
       "\\begin{enumerate*}\n",
       "\\item 1\n",
       "\\item 2\n",
       "\\item 3\n",
       "\\item 4\n",
       "\\item 5\n",
       "\\item 6\n",
       "\\item 7\n",
       "\\item 8\n",
       "\\item 9\n",
       "\\item 10\n",
       "\\end{enumerate*}\n"
      ],
      "text/markdown": [
       "1. 1\n",
       "2. 2\n",
       "3. 3\n",
       "4. 4\n",
       "5. 5\n",
       "6. 6\n",
       "7. 7\n",
       "8. 8\n",
       "9. 9\n",
       "10. 10\n",
       "\n",
       "\n"
      ],
      "text/plain": [
       " [1]  1  2  3  4  5  6  7  8  9 10"
      ]
     },
     "metadata": {},
     "output_type": "display_data"
    }
   ],
   "source": [
    "data = seq(1,10,1)\n",
    "data"
   ]
  },
  {
   "cell_type": "code",
   "execution_count": 60,
   "metadata": {},
   "outputs": [
    {
     "data": {
      "text/html": [
       "9"
      ],
      "text/latex": [
       "9"
      ],
      "text/markdown": [
       "9"
      ],
      "text/plain": [
       "[1] 9"
      ]
     },
     "metadata": {},
     "output_type": "display_data"
    }
   ],
   "source": [
    "set.seed(0)\n",
    "sample(data,1)"
   ]
  },
  {
   "cell_type": "markdown",
   "metadata": {},
   "source": [
    "Uno puede fijar los números aleatorios que se generan en la computadora con la función `set.seed(numero)`"
   ]
  },
  {
   "cell_type": "markdown",
   "metadata": {},
   "source": [
    "### Binomial\n",
    "Suponga que $Y_i \\sim Ber(p)$ independientes, para cada $i = 1, ... , n$. Definimos la v.a. $$X = \n",
    "\\sum^n_{\n",
    "i=1}\n",
    "Y_i$$\n",
    "la cual podría simbolizar el número de éxitos al realizar $n$ experimentos Bernoulli de manera independiente.\n",
    "Diremos que $X$ tiene una distribución binomial con parámetros $n$ y $p$. Usaremos la notación $X \\sim Bin(n, p)$.\n",
    "La función de cuantía está dada por:\n",
    "$$\n",
    "\\mathbb{P}(X=x)=\\left(\\begin{array}{l}\n",
    "n \\\\\n",
    "x\n",
    "\\end{array}\\right) p^{x}(1-p)^{n-x}\n",
    "$$\n",
    "donde $x \\in \\{ 0, 1, ..., n\\}$, ya que el mínimo y máximo número de éxitos posibles son $0$ y $n$, respectivamente.\n",
    "La función de cuantía debe interpretarse como sigue. De un total de $n$ ensayos independientes del\n",
    "experimento Bernoulli, la probabilidad de obtener $x$ éxitos es $p^\n",
    "x$. Como los restantes $(n - x)$ ensayos\n",
    "deben ser fracasos, la probabilidad de que eso ocurra es $(1 - p)^{\n",
    "n-x}$\n",
    ". Además, la colección de $x$ éxitos y\n",
    "$(n - x)$ fracasos se puede obtener de\n",
    "$\\left(\\begin{array}{l}\n",
    "n \\\\\n",
    "\\end{array}\\right)$\n",
    "formas distintas.\n",
    "#### Propiedades\n",
    "Sea $X \\sim Bin(n, p)$, entonces:\n",
    "* E($X$) = $np$\n",
    "* V($X$) = $np(1 - p)$"
   ]
  },
  {
   "cell_type": "markdown",
   "metadata": {},
   "source": [
    "# Simulación\n",
    "Para generar datos aleatorios de una binomial de parametros $n$ y $p$ se utiliza la función `rbinom(tamaño_de_la_muestra,n,p)`"
   ]
  },
  {
   "cell_type": "code",
   "execution_count": 75,
   "metadata": {},
   "outputs": [
    {
     "data": {
      "text/html": [
       "<style>\n",
       ".list-inline {list-style: none; margin:0; padding: 0}\n",
       ".list-inline>li {display: inline-block}\n",
       ".list-inline>li:not(:last-child)::after {content: \"\\00b7\"; padding: 0 .5ex}\n",
       "</style>\n",
       "<ol class=list-inline><li>8</li><li>5</li><li>5</li><li>6</li><li>8</li><li>5</li><li>8</li><li>9</li><li>7</li><li>7</li><li>3</li><li>5</li><li>4</li><li>7</li><li>5</li><li>7</li><li>6</li><li>7</li><li>10</li><li>5</li><li>7</li><li>9</li><li>5</li><li>7</li><li>4</li><li>5</li><li>5</li><li>2</li><li>5</li><li>8</li><li>5</li><li>6</li><li>6</li><li>6</li><li>4</li><li>8</li><li>7</li><li>7</li><li>4</li><li>7</li><li>6</li><li>8</li><li>7</li><li>7</li><li>6</li><li>6</li><li>7</li><li>3</li><li>6</li><li>7</li><li>7</li><li>6</li><li>8</li><li>6</li><li>5</li><li>3</li><li>4</li><li>5</li><li>6</li><li>7</li><li>6</li><li>8</li><li>5</li><li>6</li><li>5</li><li>7</li><li>5</li><li>6</li><li>7</li><li>4</li><li>8</li><li>5</li><li>8</li><li>5</li><li>5</li><li>6</li><li>8</li><li>8</li><li>6</li><li>7</li><li>9</li><li>6</li><li>7</li><li>6</li><li>5</li><li>7</li><li>5</li><li>7</li><li>4</li><li>5</li><li>4</li><li>5</li><li>3</li><li>7</li><li>8</li><li>7</li><li>7</li><li>6</li><li>6</li><li>8</li><li>6</li><li>7</li><li>5</li><li>5</li><li>10</li><li>7</li><li>5</li><li>4</li><li>6</li><li>8</li><li>6</li><li>9</li><li>7</li><li>5</li><li>6</li><li>4</li><li>2</li><li>7</li><li>4</li><li>6</li><li>7</li><li>10</li><li>6</li><li>6</li><li>4</li><li>7</li><li>6</li><li>6</li><li>5</li><li>5</li><li>6</li><li>6</li><li>4</li><li>3</li><li>7</li><li>9</li><li>6</li><li>6</li><li>6</li><li>10</li><li>6</li><li>7</li><li>6</li><li>5</li><li>5</li><li>7</li><li>6</li><li>4</li><li>7</li><li>4</li><li>8</li><li>7</li><li>6</li><li>5</li><li>6</li><li>6</li><li>4</li><li>6</li><li>4</li><li>5</li><li>5</li><li>5</li><li>8</li><li>6</li><li>7</li><li>8</li><li>6</li><li>3</li><li>5</li><li>7</li><li>5</li><li>7</li><li>8</li><li>8</li><li>6</li><li>5</li><li>8</li><li>7</li><li>7</li><li>6</li><li>8</li><li>5</li><li>4</li><li>8</li><li>6</li><li>8</li><li>4</li><li>7</li><li>7</li><li>9</li><li>6</li><li>7</li><li>6</li><li>4</li><li>9</li><li>5</li><li>6</li><li>4</li><li>8</li><li>5</li><li>...</li><li>9</li><li>3</li><li>7</li><li>6</li><li>6</li><li>8</li><li>2</li><li>6</li><li>8</li><li>6</li><li>5</li><li>2</li><li>7</li><li>4</li><li>4</li><li>7</li><li>7</li><li>4</li><li>2</li><li>6</li><li>10</li><li>7</li><li>5</li><li>5</li><li>7</li><li>5</li><li>3</li><li>3</li><li>6</li><li>6</li><li>10</li><li>3</li><li>8</li><li>4</li><li>7</li><li>6</li><li>5</li><li>4</li><li>6</li><li>6</li><li>11</li><li>7</li><li>5</li><li>6</li><li>5</li><li>6</li><li>5</li><li>9</li><li>4</li><li>6</li><li>7</li><li>6</li><li>6</li><li>3</li><li>8</li><li>6</li><li>7</li><li>5</li><li>4</li><li>4</li><li>5</li><li>8</li><li>6</li><li>6</li><li>10</li><li>8</li><li>4</li><li>4</li><li>6</li><li>2</li><li>7</li><li>6</li><li>5</li><li>8</li><li>5</li><li>10</li><li>5</li><li>8</li><li>3</li><li>8</li><li>1</li><li>5</li><li>6</li><li>7</li><li>4</li><li>5</li><li>6</li><li>7</li><li>7</li><li>4</li><li>5</li><li>5</li><li>6</li><li>3</li><li>5</li><li>6</li><li>6</li><li>7</li><li>5</li><li>6</li><li>5</li><li>5</li><li>7</li><li>6</li><li>5</li><li>3</li><li>8</li><li>6</li><li>6</li><li>3</li><li>5</li><li>6</li><li>5</li><li>9</li><li>7</li><li>7</li><li>5</li><li>9</li><li>8</li><li>8</li><li>6</li><li>5</li><li>5</li><li>7</li><li>6</li><li>3</li><li>6</li><li>8</li><li>6</li><li>5</li><li>4</li><li>8</li><li>9</li><li>3</li><li>3</li><li>8</li><li>5</li><li>5</li><li>8</li><li>8</li><li>6</li><li>6</li><li>4</li><li>5</li><li>5</li><li>7</li><li>4</li><li>6</li><li>8</li><li>5</li><li>7</li><li>4</li><li>6</li><li>10</li><li>4</li><li>4</li><li>4</li><li>7</li><li>8</li><li>6</li><li>7</li><li>4</li><li>2</li><li>4</li><li>6</li><li>6</li><li>10</li><li>4</li><li>4</li><li>3</li><li>3</li><li>7</li><li>2</li><li>6</li><li>6</li><li>9</li><li>5</li><li>7</li><li>8</li><li>9</li><li>4</li><li>7</li><li>5</li><li>7</li><li>8</li><li>7</li><li>6</li><li>5</li><li>5</li><li>8</li><li>6</li><li>6</li><li>5</li><li>8</li><li>5</li><li>5</li><li>6</li><li>8</li><li>4</li><li>5</li></ol>\n"
      ],
      "text/latex": [
       "\\begin{enumerate*}\n",
       "\\item 8\n",
       "\\item 5\n",
       "\\item 5\n",
       "\\item 6\n",
       "\\item 8\n",
       "\\item 5\n",
       "\\item 8\n",
       "\\item 9\n",
       "\\item 7\n",
       "\\item 7\n",
       "\\item 3\n",
       "\\item 5\n",
       "\\item 4\n",
       "\\item 7\n",
       "\\item 5\n",
       "\\item 7\n",
       "\\item 6\n",
       "\\item 7\n",
       "\\item 10\n",
       "\\item 5\n",
       "\\item 7\n",
       "\\item 9\n",
       "\\item 5\n",
       "\\item 7\n",
       "\\item 4\n",
       "\\item 5\n",
       "\\item 5\n",
       "\\item 2\n",
       "\\item 5\n",
       "\\item 8\n",
       "\\item 5\n",
       "\\item 6\n",
       "\\item 6\n",
       "\\item 6\n",
       "\\item 4\n",
       "\\item 8\n",
       "\\item 7\n",
       "\\item 7\n",
       "\\item 4\n",
       "\\item 7\n",
       "\\item 6\n",
       "\\item 8\n",
       "\\item 7\n",
       "\\item 7\n",
       "\\item 6\n",
       "\\item 6\n",
       "\\item 7\n",
       "\\item 3\n",
       "\\item 6\n",
       "\\item 7\n",
       "\\item 7\n",
       "\\item 6\n",
       "\\item 8\n",
       "\\item 6\n",
       "\\item 5\n",
       "\\item 3\n",
       "\\item 4\n",
       "\\item 5\n",
       "\\item 6\n",
       "\\item 7\n",
       "\\item 6\n",
       "\\item 8\n",
       "\\item 5\n",
       "\\item 6\n",
       "\\item 5\n",
       "\\item 7\n",
       "\\item 5\n",
       "\\item 6\n",
       "\\item 7\n",
       "\\item 4\n",
       "\\item 8\n",
       "\\item 5\n",
       "\\item 8\n",
       "\\item 5\n",
       "\\item 5\n",
       "\\item 6\n",
       "\\item 8\n",
       "\\item 8\n",
       "\\item 6\n",
       "\\item 7\n",
       "\\item 9\n",
       "\\item 6\n",
       "\\item 7\n",
       "\\item 6\n",
       "\\item 5\n",
       "\\item 7\n",
       "\\item 5\n",
       "\\item 7\n",
       "\\item 4\n",
       "\\item 5\n",
       "\\item 4\n",
       "\\item 5\n",
       "\\item 3\n",
       "\\item 7\n",
       "\\item 8\n",
       "\\item 7\n",
       "\\item 7\n",
       "\\item 6\n",
       "\\item 6\n",
       "\\item 8\n",
       "\\item 6\n",
       "\\item 7\n",
       "\\item 5\n",
       "\\item 5\n",
       "\\item 10\n",
       "\\item 7\n",
       "\\item 5\n",
       "\\item 4\n",
       "\\item 6\n",
       "\\item 8\n",
       "\\item 6\n",
       "\\item 9\n",
       "\\item 7\n",
       "\\item 5\n",
       "\\item 6\n",
       "\\item 4\n",
       "\\item 2\n",
       "\\item 7\n",
       "\\item 4\n",
       "\\item 6\n",
       "\\item 7\n",
       "\\item 10\n",
       "\\item 6\n",
       "\\item 6\n",
       "\\item 4\n",
       "\\item 7\n",
       "\\item 6\n",
       "\\item 6\n",
       "\\item 5\n",
       "\\item 5\n",
       "\\item 6\n",
       "\\item 6\n",
       "\\item 4\n",
       "\\item 3\n",
       "\\item 7\n",
       "\\item 9\n",
       "\\item 6\n",
       "\\item 6\n",
       "\\item 6\n",
       "\\item 10\n",
       "\\item 6\n",
       "\\item 7\n",
       "\\item 6\n",
       "\\item 5\n",
       "\\item 5\n",
       "\\item 7\n",
       "\\item 6\n",
       "\\item 4\n",
       "\\item 7\n",
       "\\item 4\n",
       "\\item 8\n",
       "\\item 7\n",
       "\\item 6\n",
       "\\item 5\n",
       "\\item 6\n",
       "\\item 6\n",
       "\\item 4\n",
       "\\item 6\n",
       "\\item 4\n",
       "\\item 5\n",
       "\\item 5\n",
       "\\item 5\n",
       "\\item 8\n",
       "\\item 6\n",
       "\\item 7\n",
       "\\item 8\n",
       "\\item 6\n",
       "\\item 3\n",
       "\\item 5\n",
       "\\item 7\n",
       "\\item 5\n",
       "\\item 7\n",
       "\\item 8\n",
       "\\item 8\n",
       "\\item 6\n",
       "\\item 5\n",
       "\\item 8\n",
       "\\item 7\n",
       "\\item 7\n",
       "\\item 6\n",
       "\\item 8\n",
       "\\item 5\n",
       "\\item 4\n",
       "\\item 8\n",
       "\\item 6\n",
       "\\item 8\n",
       "\\item 4\n",
       "\\item 7\n",
       "\\item 7\n",
       "\\item 9\n",
       "\\item 6\n",
       "\\item 7\n",
       "\\item 6\n",
       "\\item 4\n",
       "\\item 9\n",
       "\\item 5\n",
       "\\item 6\n",
       "\\item 4\n",
       "\\item 8\n",
       "\\item 5\n",
       "\\item ...\n",
       "\\item 9\n",
       "\\item 3\n",
       "\\item 7\n",
       "\\item 6\n",
       "\\item 6\n",
       "\\item 8\n",
       "\\item 2\n",
       "\\item 6\n",
       "\\item 8\n",
       "\\item 6\n",
       "\\item 5\n",
       "\\item 2\n",
       "\\item 7\n",
       "\\item 4\n",
       "\\item 4\n",
       "\\item 7\n",
       "\\item 7\n",
       "\\item 4\n",
       "\\item 2\n",
       "\\item 6\n",
       "\\item 10\n",
       "\\item 7\n",
       "\\item 5\n",
       "\\item 5\n",
       "\\item 7\n",
       "\\item 5\n",
       "\\item 3\n",
       "\\item 3\n",
       "\\item 6\n",
       "\\item 6\n",
       "\\item 10\n",
       "\\item 3\n",
       "\\item 8\n",
       "\\item 4\n",
       "\\item 7\n",
       "\\item 6\n",
       "\\item 5\n",
       "\\item 4\n",
       "\\item 6\n",
       "\\item 6\n",
       "\\item 11\n",
       "\\item 7\n",
       "\\item 5\n",
       "\\item 6\n",
       "\\item 5\n",
       "\\item 6\n",
       "\\item 5\n",
       "\\item 9\n",
       "\\item 4\n",
       "\\item 6\n",
       "\\item 7\n",
       "\\item 6\n",
       "\\item 6\n",
       "\\item 3\n",
       "\\item 8\n",
       "\\item 6\n",
       "\\item 7\n",
       "\\item 5\n",
       "\\item 4\n",
       "\\item 4\n",
       "\\item 5\n",
       "\\item 8\n",
       "\\item 6\n",
       "\\item 6\n",
       "\\item 10\n",
       "\\item 8\n",
       "\\item 4\n",
       "\\item 4\n",
       "\\item 6\n",
       "\\item 2\n",
       "\\item 7\n",
       "\\item 6\n",
       "\\item 5\n",
       "\\item 8\n",
       "\\item 5\n",
       "\\item 10\n",
       "\\item 5\n",
       "\\item 8\n",
       "\\item 3\n",
       "\\item 8\n",
       "\\item 1\n",
       "\\item 5\n",
       "\\item 6\n",
       "\\item 7\n",
       "\\item 4\n",
       "\\item 5\n",
       "\\item 6\n",
       "\\item 7\n",
       "\\item 7\n",
       "\\item 4\n",
       "\\item 5\n",
       "\\item 5\n",
       "\\item 6\n",
       "\\item 3\n",
       "\\item 5\n",
       "\\item 6\n",
       "\\item 6\n",
       "\\item 7\n",
       "\\item 5\n",
       "\\item 6\n",
       "\\item 5\n",
       "\\item 5\n",
       "\\item 7\n",
       "\\item 6\n",
       "\\item 5\n",
       "\\item 3\n",
       "\\item 8\n",
       "\\item 6\n",
       "\\item 6\n",
       "\\item 3\n",
       "\\item 5\n",
       "\\item 6\n",
       "\\item 5\n",
       "\\item 9\n",
       "\\item 7\n",
       "\\item 7\n",
       "\\item 5\n",
       "\\item 9\n",
       "\\item 8\n",
       "\\item 8\n",
       "\\item 6\n",
       "\\item 5\n",
       "\\item 5\n",
       "\\item 7\n",
       "\\item 6\n",
       "\\item 3\n",
       "\\item 6\n",
       "\\item 8\n",
       "\\item 6\n",
       "\\item 5\n",
       "\\item 4\n",
       "\\item 8\n",
       "\\item 9\n",
       "\\item 3\n",
       "\\item 3\n",
       "\\item 8\n",
       "\\item 5\n",
       "\\item 5\n",
       "\\item 8\n",
       "\\item 8\n",
       "\\item 6\n",
       "\\item 6\n",
       "\\item 4\n",
       "\\item 5\n",
       "\\item 5\n",
       "\\item 7\n",
       "\\item 4\n",
       "\\item 6\n",
       "\\item 8\n",
       "\\item 5\n",
       "\\item 7\n",
       "\\item 4\n",
       "\\item 6\n",
       "\\item 10\n",
       "\\item 4\n",
       "\\item 4\n",
       "\\item 4\n",
       "\\item 7\n",
       "\\item 8\n",
       "\\item 6\n",
       "\\item 7\n",
       "\\item 4\n",
       "\\item 2\n",
       "\\item 4\n",
       "\\item 6\n",
       "\\item 6\n",
       "\\item 10\n",
       "\\item 4\n",
       "\\item 4\n",
       "\\item 3\n",
       "\\item 3\n",
       "\\item 7\n",
       "\\item 2\n",
       "\\item 6\n",
       "\\item 6\n",
       "\\item 9\n",
       "\\item 5\n",
       "\\item 7\n",
       "\\item 8\n",
       "\\item 9\n",
       "\\item 4\n",
       "\\item 7\n",
       "\\item 5\n",
       "\\item 7\n",
       "\\item 8\n",
       "\\item 7\n",
       "\\item 6\n",
       "\\item 5\n",
       "\\item 5\n",
       "\\item 8\n",
       "\\item 6\n",
       "\\item 6\n",
       "\\item 5\n",
       "\\item 8\n",
       "\\item 5\n",
       "\\item 5\n",
       "\\item 6\n",
       "\\item 8\n",
       "\\item 4\n",
       "\\item 5\n",
       "\\end{enumerate*}\n"
      ],
      "text/markdown": [
       "1. 8\n",
       "2. 5\n",
       "3. 5\n",
       "4. 6\n",
       "5. 8\n",
       "6. 5\n",
       "7. 8\n",
       "8. 9\n",
       "9. 7\n",
       "10. 7\n",
       "11. 3\n",
       "12. 5\n",
       "13. 4\n",
       "14. 7\n",
       "15. 5\n",
       "16. 7\n",
       "17. 6\n",
       "18. 7\n",
       "19. 10\n",
       "20. 5\n",
       "21. 7\n",
       "22. 9\n",
       "23. 5\n",
       "24. 7\n",
       "25. 4\n",
       "26. 5\n",
       "27. 5\n",
       "28. 2\n",
       "29. 5\n",
       "30. 8\n",
       "31. 5\n",
       "32. 6\n",
       "33. 6\n",
       "34. 6\n",
       "35. 4\n",
       "36. 8\n",
       "37. 7\n",
       "38. 7\n",
       "39. 4\n",
       "40. 7\n",
       "41. 6\n",
       "42. 8\n",
       "43. 7\n",
       "44. 7\n",
       "45. 6\n",
       "46. 6\n",
       "47. 7\n",
       "48. 3\n",
       "49. 6\n",
       "50. 7\n",
       "51. 7\n",
       "52. 6\n",
       "53. 8\n",
       "54. 6\n",
       "55. 5\n",
       "56. 3\n",
       "57. 4\n",
       "58. 5\n",
       "59. 6\n",
       "60. 7\n",
       "61. 6\n",
       "62. 8\n",
       "63. 5\n",
       "64. 6\n",
       "65. 5\n",
       "66. 7\n",
       "67. 5\n",
       "68. 6\n",
       "69. 7\n",
       "70. 4\n",
       "71. 8\n",
       "72. 5\n",
       "73. 8\n",
       "74. 5\n",
       "75. 5\n",
       "76. 6\n",
       "77. 8\n",
       "78. 8\n",
       "79. 6\n",
       "80. 7\n",
       "81. 9\n",
       "82. 6\n",
       "83. 7\n",
       "84. 6\n",
       "85. 5\n",
       "86. 7\n",
       "87. 5\n",
       "88. 7\n",
       "89. 4\n",
       "90. 5\n",
       "91. 4\n",
       "92. 5\n",
       "93. 3\n",
       "94. 7\n",
       "95. 8\n",
       "96. 7\n",
       "97. 7\n",
       "98. 6\n",
       "99. 6\n",
       "100. 8\n",
       "101. 6\n",
       "102. 7\n",
       "103. 5\n",
       "104. 5\n",
       "105. 10\n",
       "106. 7\n",
       "107. 5\n",
       "108. 4\n",
       "109. 6\n",
       "110. 8\n",
       "111. 6\n",
       "112. 9\n",
       "113. 7\n",
       "114. 5\n",
       "115. 6\n",
       "116. 4\n",
       "117. 2\n",
       "118. 7\n",
       "119. 4\n",
       "120. 6\n",
       "121. 7\n",
       "122. 10\n",
       "123. 6\n",
       "124. 6\n",
       "125. 4\n",
       "126. 7\n",
       "127. 6\n",
       "128. 6\n",
       "129. 5\n",
       "130. 5\n",
       "131. 6\n",
       "132. 6\n",
       "133. 4\n",
       "134. 3\n",
       "135. 7\n",
       "136. 9\n",
       "137. 6\n",
       "138. 6\n",
       "139. 6\n",
       "140. 10\n",
       "141. 6\n",
       "142. 7\n",
       "143. 6\n",
       "144. 5\n",
       "145. 5\n",
       "146. 7\n",
       "147. 6\n",
       "148. 4\n",
       "149. 7\n",
       "150. 4\n",
       "151. 8\n",
       "152. 7\n",
       "153. 6\n",
       "154. 5\n",
       "155. 6\n",
       "156. 6\n",
       "157. 4\n",
       "158. 6\n",
       "159. 4\n",
       "160. 5\n",
       "161. 5\n",
       "162. 5\n",
       "163. 8\n",
       "164. 6\n",
       "165. 7\n",
       "166. 8\n",
       "167. 6\n",
       "168. 3\n",
       "169. 5\n",
       "170. 7\n",
       "171. 5\n",
       "172. 7\n",
       "173. 8\n",
       "174. 8\n",
       "175. 6\n",
       "176. 5\n",
       "177. 8\n",
       "178. 7\n",
       "179. 7\n",
       "180. 6\n",
       "181. 8\n",
       "182. 5\n",
       "183. 4\n",
       "184. 8\n",
       "185. 6\n",
       "186. 8\n",
       "187. 4\n",
       "188. 7\n",
       "189. 7\n",
       "190. 9\n",
       "191. 6\n",
       "192. 7\n",
       "193. 6\n",
       "194. 4\n",
       "195. 9\n",
       "196. 5\n",
       "197. 6\n",
       "198. 4\n",
       "199. 8\n",
       "200. 5\n",
       "201. ...\n",
       "202. 9\n",
       "203. 3\n",
       "204. 7\n",
       "205. 6\n",
       "206. 6\n",
       "207. 8\n",
       "208. 2\n",
       "209. 6\n",
       "210. 8\n",
       "211. 6\n",
       "212. 5\n",
       "213. 2\n",
       "214. 7\n",
       "215. 4\n",
       "216. 4\n",
       "217. 7\n",
       "218. 7\n",
       "219. 4\n",
       "220. 2\n",
       "221. 6\n",
       "222. 10\n",
       "223. 7\n",
       "224. 5\n",
       "225. 5\n",
       "226. 7\n",
       "227. 5\n",
       "228. 3\n",
       "229. 3\n",
       "230. 6\n",
       "231. 6\n",
       "232. 10\n",
       "233. 3\n",
       "234. 8\n",
       "235. 4\n",
       "236. 7\n",
       "237. 6\n",
       "238. 5\n",
       "239. 4\n",
       "240. 6\n",
       "241. 6\n",
       "242. 11\n",
       "243. 7\n",
       "244. 5\n",
       "245. 6\n",
       "246. 5\n",
       "247. 6\n",
       "248. 5\n",
       "249. 9\n",
       "250. 4\n",
       "251. 6\n",
       "252. 7\n",
       "253. 6\n",
       "254. 6\n",
       "255. 3\n",
       "256. 8\n",
       "257. 6\n",
       "258. 7\n",
       "259. 5\n",
       "260. 4\n",
       "261. 4\n",
       "262. 5\n",
       "263. 8\n",
       "264. 6\n",
       "265. 6\n",
       "266. 10\n",
       "267. 8\n",
       "268. 4\n",
       "269. 4\n",
       "270. 6\n",
       "271. 2\n",
       "272. 7\n",
       "273. 6\n",
       "274. 5\n",
       "275. 8\n",
       "276. 5\n",
       "277. 10\n",
       "278. 5\n",
       "279. 8\n",
       "280. 3\n",
       "281. 8\n",
       "282. 1\n",
       "283. 5\n",
       "284. 6\n",
       "285. 7\n",
       "286. 4\n",
       "287. 5\n",
       "288. 6\n",
       "289. 7\n",
       "290. 7\n",
       "291. 4\n",
       "292. 5\n",
       "293. 5\n",
       "294. 6\n",
       "295. 3\n",
       "296. 5\n",
       "297. 6\n",
       "298. 6\n",
       "299. 7\n",
       "300. 5\n",
       "301. 6\n",
       "302. 5\n",
       "303. 5\n",
       "304. 7\n",
       "305. 6\n",
       "306. 5\n",
       "307. 3\n",
       "308. 8\n",
       "309. 6\n",
       "310. 6\n",
       "311. 3\n",
       "312. 5\n",
       "313. 6\n",
       "314. 5\n",
       "315. 9\n",
       "316. 7\n",
       "317. 7\n",
       "318. 5\n",
       "319. 9\n",
       "320. 8\n",
       "321. 8\n",
       "322. 6\n",
       "323. 5\n",
       "324. 5\n",
       "325. 7\n",
       "326. 6\n",
       "327. 3\n",
       "328. 6\n",
       "329. 8\n",
       "330. 6\n",
       "331. 5\n",
       "332. 4\n",
       "333. 8\n",
       "334. 9\n",
       "335. 3\n",
       "336. 3\n",
       "337. 8\n",
       "338. 5\n",
       "339. 5\n",
       "340. 8\n",
       "341. 8\n",
       "342. 6\n",
       "343. 6\n",
       "344. 4\n",
       "345. 5\n",
       "346. 5\n",
       "347. 7\n",
       "348. 4\n",
       "349. 6\n",
       "350. 8\n",
       "351. 5\n",
       "352. 7\n",
       "353. 4\n",
       "354. 6\n",
       "355. 10\n",
       "356. 4\n",
       "357. 4\n",
       "358. 4\n",
       "359. 7\n",
       "360. 8\n",
       "361. 6\n",
       "362. 7\n",
       "363. 4\n",
       "364. 2\n",
       "365. 4\n",
       "366. 6\n",
       "367. 6\n",
       "368. 10\n",
       "369. 4\n",
       "370. 4\n",
       "371. 3\n",
       "372. 3\n",
       "373. 7\n",
       "374. 2\n",
       "375. 6\n",
       "376. 6\n",
       "377. 9\n",
       "378. 5\n",
       "379. 7\n",
       "380. 8\n",
       "381. 9\n",
       "382. 4\n",
       "383. 7\n",
       "384. 5\n",
       "385. 7\n",
       "386. 8\n",
       "387. 7\n",
       "388. 6\n",
       "389. 5\n",
       "390. 5\n",
       "391. 8\n",
       "392. 6\n",
       "393. 6\n",
       "394. 5\n",
       "395. 8\n",
       "396. 5\n",
       "397. 5\n",
       "398. 6\n",
       "399. 8\n",
       "400. 4\n",
       "401. 5\n",
       "\n",
       "\n"
      ],
      "text/plain": [
       "   [1]  8  5  5  6  8  5  8  9  7  7  3  5  4  7  5  7  6  7 10  5  7  9  5  7\n",
       "  [25]  4  5  5  2  5  8  5  6  6  6  4  8  7  7  4  7  6  8  7  7  6  6  7  3\n",
       "  [49]  6  7  7  6  8  6  5  3  4  5  6  7  6  8  5  6  5  7  5  6  7  4  8  5\n",
       "  [73]  8  5  5  6  8  8  6  7  9  6  7  6  5  7  5  7  4  5  4  5  3  7  8  7\n",
       "  [97]  7  6  6  8  6  7  5  5 10  7  5  4  6  8  6  9  7  5  6  4  2  7  4  6\n",
       " [121]  7 10  6  6  4  7  6  6  5  5  6  6  4  3  7  9  6  6  6 10  6  7  6  5\n",
       " [145]  5  7  6  4  7  4  8  7  6  5  6  6  4  6  4  5  5  5  8  6  7  8  6  3\n",
       " [169]  5  7  5  7  8  8  6  5  8  7  7  6  8  5  4  8  6  8  4  7  7  9  6  7\n",
       " [193]  6  4  9  5  6  4  8  5  7  5  5  6  5  4  6  6  4  5  7  9  4  7  9  8\n",
       " [217]  5  7  9  9  5  5  4  5  6  8  6  5  3  6  8  5  4  5  7  6  7  7  6  6\n",
       " [241]  6  5  6  8  4  6  5  6  4  6  9  7  9  6  6  6  4  5  6  5  9  6  5  5\n",
       " [265]  7  7  4  3  7  7  4  3  4  5  4  5  4  5  4  6  7  3  6  8  5  3  4  5\n",
       " [289]  4  4  5  5  4 10  5  6  7  4  4  3  9  7  4  6  6  5 10  4  8  3  6  4\n",
       " [313]  4  8  7  5  6  4  5  9  7  7  5  6 10  8  9  8  7  5  7 10  5  6  8  4\n",
       " [337]  5  6  4  6  9 10  4  6  5  7  5  6  4  5  7  6  3  7  6 10  5  8  4  8\n",
       " [361]  6  4  5  8  5  6  8  3  7  7  6  6  6  9  5  5  6  5  8  4  6  6  6  7\n",
       " [385]  9  5  5  7  8  4  9  4  4  8  6  4  5  7  5  5  4  7  4  9  8  9  7  5\n",
       " [409]  7  2  9 10  5  7  7  7  6  6  5  7  8  6  6  7  4  5  6  4  9  8  8  9\n",
       " [433]  3  5  6  4  7  7  3  6  8  3  5  6  6  5  6  5  9  4  3  9  6  5  4  3\n",
       " [457]  7  6 10  6  3  4  6  1  6  5  9  7  4  6  7  6  9  7  6  4  5  8  6  6\n",
       " [481]  7  7  4  8  9  6  6  4  1  8  4  3  9  5  4  6  6  6  6  8  3  6  7  7\n",
       " [505]  7  6  9  6  8  7  6  8  6  2  7  7  4  7  6  5  7  8  7  5  4  6  9  7\n",
       " [529]  7  9 10  6  3  5  5  4  3  5  5  4  7  6  9  7  5  5  4 10  5  6  7  8\n",
       " [553]  6  2  8  7  5  4  3  8  8  7  4  5  7  8  7  5  7  5  9  4  6  5  4  8\n",
       " [577]  6  7  6  8  7  5  9  7  3  6  6  4  6  9  7  6  5  7  7  8  7  6  6  5\n",
       " [601]  6  8  9  4  7  9  9  5  6  9  4  9  5  6  6  7  6  4  5  7  3  8  5  7\n",
       " [625]  4  5  7  5  7  6  9  8  5  5  8  6  5  4  3  7  7  8  5  9  5  7  5  3\n",
       " [649]  8  7  9  7  8  5  6  6  4  4  6  7  8  5  7  3  7  5  6  8  5  5  7  7\n",
       " [673]  6  8  6  6  6  5  4  5  5  7  7  4  6  6  6  5  6  2  8  4  6  8  6  6\n",
       " [697]  6  7  4  9  6  9  8  7  7  7  4  6  6  9  7  7  6  4  7  6  6  3  4  6\n",
       " [721]  7  2  6  8  7  5  8  5  6  6  3  7  6  7  3  7  5  5  8  4  3  5  6  6\n",
       " [745]  5  5  5  6  8  4  7  6  8  6  4  6  4  6  5  9  6  7  4  8  5  4  4  6\n",
       " [769]  7  8  7  6  8  2 10  7  6  3  7  5 11  8  7  7  6  8  4  7  5  6  3  4\n",
       " [793]  3  9  5  6  7  5  6  8  5  8  3  9  7  5  7  5  9  5  3  5  5  5  9  5\n",
       " [817]  6  8  8  5  7  5  6  7  8  8  3  5  5  5  7  7  8  8  7  6  6  4  8  9\n",
       " [841]  6  8  4  5  6  6  6  3  7  7  5  9  7  3  9  5  3  5  7  5  5  3  5  7\n",
       " [865]  3  3  6  6  7  7  4  6  9  8  5  6  2  5  6  7 10  5  9  9  8  6  7  7\n",
       " [889]  7  6  5  1  3  4  2  5  4  6  3  2  4  8  7  5  4  5  3  3  4  3  3  6\n",
       " [913]  7  7  3  2  6  4  7  7  8  5  9 10  3  8  8  7  5  6  6  6  8  5  5  7\n",
       " [937]  7  9  6  8  5  5  8  3  6  6  6  7  7  8  8  4  4  7  8  6  5  8  4  6\n",
       " [961]  2  5  6  4  7  5  5  5  8 10  7 10  6  6  9  4  3  3  6  7  7  4  4 10\n",
       " [985]  6  4  6  6  5 12  6  4  6  7  5  4  7  7  5  4  5  6  7  5  9  4  3  6\n",
       "[1009]  6  8  7  9  6  4 10  6  8  8  5  4  5  2  8  4  8  4  7  6  5  5  7  6\n",
       "[1033]  6  5  9  7  5  5  6  8  4  5  4  7  6  4  6  6  5  6  9  3  6  6  8  8\n",
       "[1057]  4  7  6  6  4  4  8  8  4  6  9  5  4  9  6  5  1  7  6  8  6  9  3  5\n",
       "[1081]  5  5  5  7  3  7  8  6  4  8  6  6  7  5  5  7  7  2  6  7  9  7  5  6\n",
       "[1105]  4  4  7  5  6  9  5  5  7  2  7  7  6  5  7  5  7  4  7  6  8  7  8  5\n",
       "[1129]  6  5  5  8  4  6  6  5  4  5  7  8  6  4  5  7  4  7  6  5  5  7  4  8\n",
       "[1153]  4  7  8  9  5  3  5  4  5  4  5  6  5  9  5  9  5  7  4  8  7  6  6  7\n",
       "[1177]  4  7  7  5  3  5  5  6  5  8  4  4  7  2  3  7  9  5  7  5  9  8  7  5\n",
       "[1201]  3  5  7  9  7  7  8  7  8  6  7  4  7  3  5  6  9  9  3  6  3  6  4  7\n",
       "[1225]  8  5  4  4  5 10  6  5  5  5  2  3  8  6  6  6  7  6  6  3  5  9  6  9\n",
       "[1249]  7  7  3  4  4  7  8  6  4  5  6  8  4  4  7  5  7  5  6  6  9  3  5  5\n",
       "[1273]  5  7  8  7  7  4  7  7  9  2  6  5  7  7  5  5  7  6  5  3  8  7  6  3\n",
       "[1297]  6  5  6  6  3  6  4  5  9  9  7  4  6  6  6  1  6  6  7  7  7  4  4  7\n",
       "[1321]  6  7  4  8  5  5  7  4  4  3  8  5  8  4  6  7  6  6  8 10  5  4  4  8\n",
       "[1345]  4  5  4  3  5  7  7  4  4  4  6  5  6  6  4  4  8  8  8  4  3  6  5  6\n",
       "[1369]  5  4  6  5  4  5  5  8  7  9  8  4  6  8  7  6  5  3  5  5  8  7  6  6\n",
       "[1393]  5  2  9  7  5  7  8  5  7  5  7  9  5  6  8  6  3  4  4  4  6  3  6  5\n",
       "[1417]  6  8  5  9  5  9  7  8  5  6  2  4  6  5  7  2  8  5  5  9  6  6  9  8\n",
       "[1441]  5  7  6  5  7  9  5  6  5  4  7  6  5  3  7  7  4  7  3  5  7  5  6  8\n",
       "[1465]  5  4  5  4  8  7  4  5  8  7  4  6  6  8  6  7  7  2  3  4  6  8  6  7\n",
       "[1489]  7  4  8  4  4  8  7  5  7  9  8  9  6  3  8  5  6  4  5  7  7  4  6  3\n",
       "[1513]  7  9  8  8  6  7  6  5  6  6  8  7  9  4  8  6  8  6  9  7  5  7  3  8\n",
       "[1537]  4  6  6  4  6  5  2  3  8  8  6  8  6  6  7  4  4  8  5  6  8  5  9  8\n",
       "[1561]  7  5  7  8  3  5  8  7  8  8  5  4  6  7  8  6 10  7  4  5  8  6  8  8\n",
       "[1585]  8  6  7  7  6  6  6  4  8  6  4  4  4  2  5  8  4  4  3  3  8  8  4  6\n",
       "[1609]  5  5  4  6  7  5  7  8  8  7  5  3  8  7  6  7  4  7  8  2  9  6  7  9\n",
       "[1633]  5  7  4  3  6  3  4  7  3  6  7  8  5  7  5  6  5  6  8  6  3  4  5 10\n",
       "[1657]  7  4  7  6  5  5  6  9  6  8  9  5  6  6  5  8  8 10  4  7  7  4  8  4\n",
       "[1681]  4  9  7  2  8 11  8  6  9  5  9  6  6  8  5  7  5  3  7  7  3  7  7  7\n",
       "[1705]  4  4  4  2  7  5  5  4  5  5  5  4  8  5  4  5  6  7  5  8 11  5  6  5\n",
       "[1729]  9  7  7  8  3  6  7  3  7  6  6  6  3  9 10  7  6  5  4  5  8  5  6  6\n",
       "[1753]  6  6  5  8  3  7  6  5  7  4  6  7  6  6  6  6  7  8  6  9  5  4  5  9\n",
       "[1777]  4  4  4  6  5  6  5  6  5  8  4  5  4  7  9  6  7  4  6  8  6  2  4  5\n",
       "[1801]  5  3  5  6  6  6  6  4  9  7  5  4  5  7  3  6  4  7 10  4  7  6  8  5\n",
       "[1825]  6  3  6  6  6  9  7  5  8  6  8  7  6  6  6  9  4  7  8 10  9  7  3  4\n",
       "[1849]  6  7  4  4  4  4  8  6  8  8  9  7  7  7  3  8  7  6  5  2  6  6  6 10\n",
       "[1873]  6  6  7  4  5  5  5  4  6  6  8  7  5  8  5  6  4  4  5  7  6  8  4 10\n",
       "[1897]  7  5  3  7  6  8  4  6  8  7  5  6  8  6  5  6  6  8  4  7  1  5  9  2\n",
       "[1921]  4  5 10  6  7  2  5 10  7  3  8  4  6  9  6  2  9  7  4  5  6  7  7  8\n",
       "[1945]  4  4  3  5  8  1  5  4  4  7  6  7  5  9  5  6  4  7  4  6  7  5  7  7\n",
       "[1969]  5  7 10  6  9  5  5  6  6  7  1  7  8  5  7  5  5 10  6  8  6  6  8  5\n",
       "[1993]  4  4  8  5  7  3  5  5  5  8  9  8  6  4  4  6  3  6  6  3  6  7  6  3\n",
       "[2017]  6  4  3  8  5  5  8  6  2  3  7  4  3  7  6  6  4  5  7  4  5  4  7  9\n",
       "[2041]  5  5  4  7  3  7  4  7  5  7  8  4  7  4  5  7  6  4  4  7  5  5  6  5\n",
       "[2065] 10  5  6  6  6  8  2  7  8  6  8  8  3  9  6  6  5  7  6  6  5  4  8  4\n",
       "[2089]  6  9  6  8  7  7  3  6  4  7  8  6  6  6  7  6  4  4 10 10  5  7  7  6\n",
       "[2113]  6  8  8  5  4  9  8  5  8  2  5  8  3  8  7  5  2  4  7  3  7  6  7  3\n",
       "[2137]  5  5  9  6  6  7  4  5  5  6  4  6  4  9  6  4  6  3  5  3  6  7  6  6\n",
       "[2161]  5  7  9  6  5  7  7  6  5  6  4  5  4  8  6  5  5  7  6  6  7  9  7  7\n",
       "[2185]  4  5  8  6  3  6  3  2  8  9  8  8  4  5  7  7  4  6  9  4  6  9  6  6\n",
       "[2209]  5  6  4  7  7  4  6  4  7  6  5  7  5  6  6  7  3  7  4  7  5  4  7  7\n",
       "[2233]  4  5  4  5  7  6  5  3  8  6  3  5  5  5  5  5  5  8  7  4  7  6  5  2\n",
       "[2257]  3  5  5  5  8  9  6  4  4  4  6  4  7  6  9  8  7  4  4  5 10  8  6  5\n",
       "[2281]  8  7  8  7  3  4  9  8  6  7  5  5  6  4  6  5  6  7  6  5  9  3  8  6\n",
       "[2305]  7  7  5  4  8  6  7  4  5  6  5  6  6  6  6  5  7  5  8  8  6  6  3  6\n",
       "[2329]  7  1  8  4  4  7  3  5  7  4  5  5  7  5  6  5  9  7  8  9  7  8  7  8\n",
       "[2353]  8  5  8  7  4  4  9  6  4 10  2  6  6  5  7  5  7  7  7 10  6  7  5  6\n",
       "[2377]  6 10  9  5  6  7  7  5  7  4  8  8  4  3  5  5  7  6  5  5  6  3  6  5\n",
       "[2401]  4  3  3  9  7  3  6  2  7  7  2  8  8  6  7  6  5  7  7  8  6  3  7  8\n",
       "[2425]  7  6  6  5  6  8  5  8  7  8  5  5  8  7  6  8  8  5  5  9  6  6  7  6\n",
       "[2449]  8  7  4  7  7  5  8  6  5 10  7  6  5  5  5  7  6  7  5  5  9  4  6  7\n",
       "[2473]  5  6  3  7  6  5  5  3  5  6  5 10  3  3  7  4  6  4  7  5  5  7  3  6\n",
       "[2497]  9  6  8  4  5  6  4  8  6 10  6  8  2  4  5  5  6  7  9  6  4  6 10  4\n",
       "[2521]  8  5  6  4  5  4  7  5  8  5  8  6  6  7  5  5  8  5  8  9  5  8  4  7\n",
       "[2545]  6  9  7  4  6  9  4  8  5  7  7  7  7  6  7  6  5  3  6  7  4 10  8 10\n",
       "[2569]  3  6  6  6  6  6  5  8 10  9 10  7  5  8  7  6  7  7  7  8  7 12  5  6\n",
       "[2593]  2  5  5  7  7  5  5  7  7  7  5  8  6  4  7  4  6  9  4  6  8  4  6  4\n",
       "[2617]  4  5  5  7  6  5  5  8  3  6  4  6  6  6  6  5  9  6  5  8  4  4  5  8\n",
       "[2641]  8  5  4  7  6  6  9  4  4  7  5  5  5  8  3  5  6  3  2  5  5  5  4  5\n",
       "[2665]  5  6  8  5  7  5  9  7  8  4  6  7  5  6  6  6  6  3  5  5  3  5  7  7\n",
       "[2689]  5  8  4  8  6  4  5  5  8  6  5  4  8  3  7  7  6  6  6  7  8  4  5  5\n",
       "[2713]  5  4  6  5  6  6  9  5  6  4  7  4  6  4  9  5  7  9  7  5  6  4  4  4\n",
       "[2737]  5  6  7  5  4  6  8  6  4  8  4  7  4  8  6  6  8  8  3  6  5  8  6  6\n",
       "[2761]  3  5  6  4  6  5  8  5  7  7  4  6  4  5  5  4  2  5  4  6  7  4  5  5\n",
       "[2785]  7  6  7  7  5  6  5  6  9  4  5  7  6  6  8  7  6  9  6  6  4  6  9  5\n",
       "[2809]  5  5  4  4  5  7  9  3  3  3  6  5  4  8  4  6  6  5  7  7  9  5  5  6\n",
       "[2833]  7  6  1  8  6  8  9  8  7  8  6  7  6  9  5  9  7  8  7  6  9  4  2  6\n",
       "[2857]  6  5  5  6  6  5  5  8  5 10  7  8  5  7  3  6  8 10  6  6  6  8  6  9\n",
       "[2881]  4  6  7  1  7  5  4  7  6  4  6  4  7  7  6  1  6  6  8  6  9  5  4  6\n",
       "[2905]  6  6  4  6  7  6  7  5  5  6  4  8 10  7  6  9  7  6  5  7  9  7  8  5\n",
       "[2929]  6  5  6  9  7  5  6  8  6  6  3  4  7  3 11  4  7  3  4  6  7  8  7  5\n",
       "[2953]  7  9  6  6  7  4  5  6  3  5  7  5  6  6  8  6  4  7  3  7  3  7  7  6\n",
       "[2977]  8  5  5  7  6  7  4  5  8  5  3  8  6  8  7  6  6  5  6  9  5  4  5  4\n",
       "[3001]  6  7  6  4  6  8  9  4  5  7  9  6  4  8  8  8  7  6  4  7  9  3  4  6\n",
       "[3025]  4  4  5  6  4  6  5  6  5  6  6  8  5  6  2  9  5  3  5  7  5 10  4  4\n",
       "[3049]  5  5  9  5  6  6  5  6  6  5  2  9  4  6  7  8  6  1  5  8  6  8 10  5\n",
       "[3073]  2  6  7  9  7  6  7  8  8  7  6  6  8  5  7  4  8  2  4  6  7  6  8  5\n",
       "[3097]  6  7  4  7  8  5  3  6  4  8  5  7  5  7  9  7  2  9  6 10  6  4  7  5\n",
       "[3121]  7  6  3  6  5  6  5  7  9  5  8  3  9  9  8  7  5  8  8  5  8  6  6  2\n",
       "[3145]  8  7  6  7  9  4  6  5  6  8  7  7  7  6  3  7  5  4  4  8  7  3  4  4\n",
       "[3169]  6  7  8  8  2  1  6  7  7  7  4  6  7  5  7  5  5  6  6  8  6  3  4  4\n",
       "[3193]  8  9  8  4  7  2  7  6  5  7 11  6  9  4  6  7  5  6  7  8  5  7  5  7\n",
       "[3217]  6  7  6  7  7  7  7  2  5  7  8  4  7  7  9  8  3  5  8  5  6  6  6  9\n",
       "[3241]  6  6  7  6  3  5  6  5  6  6  7  3  5  8  6  5  6  3  6  6  4  6  3  3\n",
       "[3265]  5  9  3  4  9  4  9  7  2  8  6  6  8  6  3  4  6  8  5  7  6  6  6  7\n",
       "[3289]  7  7  9  5  8  7  5  4  7 10  8  7  8  6  6  5  3  6  9  4  7  6  9  7\n",
       "[3313]  8  5  7  5  8  3  7  7  7  7  8  6  9  5  4  6  3  4  5  3  7  4  5  5\n",
       "[3337]  6  7  6  7  5  5  5  8  6  4  4  2  9  5  3  6  8  3  3  8  4  8  8  8\n",
       "[3361]  6  6  7  8  7  7  7  8  5  6  7  7  3  2  3  5  4  8  6  6  6  4  6  4\n",
       "[3385]  5  5  8 10  6  6  5  5  7  2  3  3  6  8  6  5  7  9  3  5  7  3  7 10\n",
       "[3409]  5  4  9  5  6  6  9  6  5  3  7  3  5  8  9  5  6  7  8  9  7  5  6  5\n",
       "[3433]  9  3  7  9  4  5  4  5  5  4  9  7  3  9  6  6 10  5  7  3  8  9  9  7\n",
       "[3457]  8  6  7  8  3  8  3  5  4  4  6  8  6  7  8  5  6 11  5  2  5  6  3  8\n",
       "[3481]  9  9  3  8  8  6  8  7  8  7  6  6  5  4  8  8  6  5  5  5  6  6  7  6\n",
       "[3505]  6  3  7  5  6  7  7  8  5  4  4  5  5  2  8  8  5  6  5  7  7  5  6  6\n",
       "[3529] 10  8  7  6  9  7  7  7  3  3  8  7  7  2  4  6  7  5  8  8  4  7  4  5\n",
       "[3553]  7  6  5  6  7  4  8  5  7  4  6  3  4  5  7  6  6  6  5  7  6  5  4  7\n",
       "[3577]  6  6  3  5  5  3  7  3  3  2  5  8  5  5  8  9  9  3  6  9  4  8  6  5\n",
       "[3601]  6  7  6  7  5  6  7  9  3  6  4  9  4  4  7  8  6  5  5  7  5  6  8  6\n",
       "[3625]  4  6  8  8  9  6  4  8  9  6  6  6  9  6  6  5  3  6  4  8  5  7  7  8\n",
       "[3649]  6  9  4  7  8  6  6  9  5  6  8  4  9  4  5  5  4  4  3  8  7  5  5  8\n",
       "[3673]  7 10  9  5  8  7  5  5  3 11  9  4  9  5  5  8  9  8  8  8  7  7  5  7\n",
       "[3697]  6  4  5  7  8  5  6 11  8  7  6  7  4  2  8  4  7  4  5  5  5  5  4  7\n",
       "[3721]  6  6  8  5  7  8  5  2  7  6  3  7  7  8  8  6  8  5  5  5  5  5  6  5\n",
       "[3745]  4  4  8  6  3  6  6  5  6  4  6  3  6  5  8  9  5  5  9  5  8 11  8  3\n",
       "[3769]  3  6  5  7  6  5  5  8  4  7  8  6  3  4  5  7  7  5  6  4  4  6  9  7\n",
       "[3793]  6  6  3  7  5  2  9  7  9  3  7  6  6  8  2  6  8  6  5  2  7  4  4  7\n",
       "[3817]  7  4  2  6 10  7  5  5  7  5  3  3  6  6 10  3  8  4  7  6  5  4  6  6\n",
       "[3841] 11  7  5  6  5  6  5  9  4  6  7  6  6  3  8  6  7  5  4  4  5  8  6  6\n",
       "[3865] 10  8  4  4  6  2  7  6  5  8  5 10  5  8  3  8  1  5  6  7  4  5  6  7\n",
       "[3889]  7  4  5  5  6  3  5  6  6  7  5  6  5  5  7  6  5  3  8  6  6  3  5  6\n",
       "[3913]  5  9  7  7  5  9  8  8  6  5  5  7  6  3  6  8  6  5  4  8  9  3  3  8\n",
       "[3937]  5  5  8  8  6  6  4  5  5  7  4  6  8  5  7  4  6 10  4  4  4  7  8  6\n",
       "[3961]  7  4  2  4  6  6 10  4  4  3  3  7  2  6  6  9  5  7  8  9  4  7  5  7\n",
       "[3985]  8  7  6  5  5  8  6  6  5  8  5  5  6  8  4  5"
      ]
     },
     "metadata": {},
     "output_type": "display_data"
    }
   ],
   "source": [
    "set.seed(0)\n",
    "data = rbinom(4000,12,0.5)\n",
    "data"
   ]
  },
  {
   "cell_type": "code",
   "execution_count": 76,
   "metadata": {},
   "outputs": [
    {
     "data": {
      "image/png": "[encoded data removed]",
      "text/plain": [
       "Plot with title \"Histogram of data\""
      ]
     },
     "metadata": {
      "image/png": {
       "height": 420,
       "width": 420
      }
     },
     "output_type": "display_data"
    }
   ],
   "source": [
    "hist(data)"
   ]
  },
  {
   "cell_type": "markdown",
   "metadata": {},
   "source": [
    "Supongamos que queremos calular $\\mathbb{P}(X = x_0)$ con $X\\sim Bin(n,p)$, entonces se tiene que:\n",
    "* $\\mathbb{P}(X = x_0) =$ `dbinom(x_0,n,p)`\n",
    "* $\\mathbb{P}(X <= x_0) =$ `pbinom(x_0,n,p)`\n",
    "* $\\mathbb{P}(X <= x_0) = c$, x_0=`qbinom(c,n,p)`"
   ]
  },
  {
   "cell_type": "code",
   "execution_count": 61,
   "metadata": {},
   "outputs": [
    {
     "data": {
      "text/html": [
       "0.009765625"
      ],
      "text/latex": [
       "0.009765625"
      ],
      "text/markdown": [
       "0.009765625"
      ],
      "text/plain": [
       "[1] 0.009765625"
      ]
     },
     "metadata": {},
     "output_type": "display_data"
    }
   ],
   "source": [
    "dbinom(1,10,0.5)"
   ]
  },
  {
   "cell_type": "code",
   "execution_count": 82,
   "metadata": {},
   "outputs": [
    {
     "data": {
      "text/html": [
       "0.588098526000976"
      ],
      "text/latex": [
       "0.588098526000976"
      ],
      "text/markdown": [
       "0.588098526000976"
      ],
      "text/plain": [
       "[1] 0.5880985"
      ]
     },
     "metadata": {},
     "output_type": "display_data"
    }
   ],
   "source": [
    "pbinom(10,20,0.5) #P(X<=10), X~Bin(20,0.5)"
   ]
  },
  {
   "cell_type": "code",
   "execution_count": 83,
   "metadata": {},
   "outputs": [
    {
     "data": {
      "text/html": [
       "10"
      ],
      "text/latex": [
       "10"
      ],
      "text/markdown": [
       "10"
      ],
      "text/plain": [
       "[1] 10"
      ]
     },
     "metadata": {},
     "output_type": "display_data"
    }
   ],
   "source": [
    "qbinom(0.588,20,0.5) #P(X<=x0) = 0.588... X~Bin(20,0.5)"
   ]
  },
  {
   "cell_type": "markdown",
   "metadata": {},
   "source": [
    "### Poisson\n",
    "Una v.a. discreta $X$, que representa el número de eventos que ocurren por unidad de tiempo, área\n",
    "o volumen, sigue una distribución de Poisson con parámetro $\\lambda > 0$, si su función de cuantía se puede\n",
    "escribir de la siguiente manera:\n",
    "$$\n",
    "\\mathbb{P}(X=x)=\\frac{e^{-\\lambda} \\lambda^{x}}{x !}\n",
    "$$\n",
    "donde $x\\in  \\{0, 1, 2, . . .\\}$. Usaremos la notación $X \\sim Poisson(\\lambda)$.\n",
    "\n"
   ]
  },
  {
   "cell_type": "markdown",
   "metadata": {},
   "source": [
    "#### Simulación\n",
    "Si queremos generar una muestra aleatoria desde una Poisson de parametro $\\lambda$ debemos ejecutar el comando `rpois(tamaño_de_la_muestra,lambda)`"
   ]
  },
  {
   "cell_type": "code",
   "execution_count": 70,
   "metadata": {},
   "outputs": [],
   "source": [
    "x = rpois(1000,5)"
   ]
  },
  {
   "cell_type": "code",
   "execution_count": 71,
   "metadata": {},
   "outputs": [
    {
     "data": {
      "image/png": "[encoded data removed]",
      "text/plain": [
       "plot without title"
      ]
     },
     "metadata": {
      "image/png": {
       "height": 420,
       "width": 420
      }
     },
     "output_type": "display_data"
    }
   ],
   "source": [
    "#install.packages('ggplot2')\n",
    "library(ggplot2)\n",
    "pl <- ggplot(data.frame(x), aes(x))\n",
    "pl + geom_histogram(binwidth=1, aes(fill=..count..), col='black')"
   ]
  },
  {
   "cell_type": "markdown",
   "metadata": {},
   "source": [
    "Supongamos que queremos calular $\\mathbb{P}(X = x_0)$ con $X\\sim Poi(\\lambda)$, entonces se tiene que:\n",
    "* $\\mathbb{P}(X = x_0) =$ `dpois(x_0,lambda)`\n",
    "* $\\mathbb{P}(X <= x_0) =$ `ppois(x_0,lambda)`"
   ]
  },
  {
   "cell_type": "markdown",
   "metadata": {},
   "source": [
    "### Distribución Normal"
   ]
  },
  {
   "cell_type": "markdown",
   "metadata": {},
   "source": [
    "Sea $X$ una v.a. continua con función de densidad dada por:\n",
    "$$\n",
    "f_{X}(x)=\\frac{1}{\\sqrt{2 \\pi \\sigma^{2}}} e^{-\\frac{(x-\\mu)^{2}}{2 \\sigma^{2}}}, \\quad x \\in \\mathbb{R}\n",
    "$$\n",
    "entonces diremos que $X$ sigue una distribución Normal con parámetros $\\mu \\in \\mathbb{R}$ y $\\sigma > 0$. Usaremos la\n",
    "notación $X \\sim \\mathcal{N}(\\mu, \\sigma^2)$. Para esta distribución tenemos que E($X$) = $\\mu$ y V($X$)=$\\sigma^2$ "
   ]
  },
  {
   "cell_type": "markdown",
   "metadata": {},
   "source": [
    "#### Simulación\n",
    "Si queremos generar una muestra aleatoria desde una normal de parametros $\\mu$ y $\\sigma^2$ debemos ejecutar el comando `rnorm(tamaño_de_la_muestra,mu,sigma)` **Ojo que se utiliza la desviación estandar**"
   ]
  },
  {
   "cell_type": "code",
   "execution_count": 145,
   "metadata": {},
   "outputs": [
    {
     "data": {
      "image/png": "[encoded data removed]",
      "text/plain": [
       "Plot with title “Histogram of rnorm(10000, 10, 10)”"
      ]
     },
     "metadata": {
      "image/png": {
       "height": 420,
       "width": 420
      }
     },
     "output_type": "display_data"
    }
   ],
   "source": [
    "set.seed(1)\n",
    "hist(rnorm(10000,10,10))"
   ]
  },
  {
   "cell_type": "markdown",
   "metadata": {},
   "source": [
    "Supongamos que queremos calular $\\mathbb{P}(X = x_0)$ con $X\\sim \\mathcal{N}(\\mu,\\sigma^2)$, entonces se tiene que:\n",
    "* $\\mathbb{P}(X = x_0) = 0$ siempre por ser una V.A. continua **No usar dnorm puesto que esto entrega el valor de la función de densidad en x_0**\n",
    "\n",
    "* Si $\\mathbb{P}(X < x_0) = c$ entonces $x_0=$`qnorm(c,mu,sigma)`\n",
    "\n",
    "* $\\mathbb{P}(X < x_0) =$ `pnorm(x_0,mu,sigma)`"
   ]
  },
  {
   "cell_type": "code",
   "execution_count": 198,
   "metadata": {},
   "outputs": [],
   "source": [
    "datos = rnorm(10,4,2)"
   ]
  },
  {
   "cell_type": "markdown",
   "metadata": {},
   "source": [
    "$X\\sim N (4,4)$"
   ]
  },
  {
   "cell_type": "markdown",
   "metadata": {},
   "source": [
    "¿cúal es la probabilidad de que X sea menor a 0.2?\n",
    "$$ P (X < 0.2)$$"
   ]
  },
  {
   "cell_type": "code",
   "execution_count": 199,
   "metadata": {},
   "outputs": [
    {
     "data": {
      "text/html": [
       "0.0287165598160018"
      ],
      "text/latex": [
       "0.0287165598160018"
      ],
      "text/markdown": [
       "0.0287165598160018"
      ],
      "text/plain": [
       "[1] 0.02871656"
      ]
     },
     "metadata": {},
     "output_type": "display_data"
    }
   ],
   "source": [
    "pnorm(0.2,4,2)"
   ]
  },
  {
   "cell_type": "markdown",
   "metadata": {},
   "source": [
    "Sea $X\\sim N(2,100)$, obtenga $P(1<X<3)$"
   ]
  },
  {
   "cell_type": "markdown",
   "metadata": {},
   "source": [
    "$$\n",
    "P(1<X<3)=P(X<3)-P(X<1)\n",
    "$$"
   ]
  },
  {
   "cell_type": "code",
   "execution_count": 153,
   "metadata": {},
   "outputs": [
    {
     "data": {
      "text/html": [
       "0.079655674554058"
      ],
      "text/latex": [
       "0.079655674554058"
      ],
      "text/markdown": [
       "0.079655674554058"
      ],
      "text/plain": [
       "[1] 0.07965567"
      ]
     },
     "metadata": {},
     "output_type": "display_data"
    }
   ],
   "source": [
    "res = pnorm(3,2,sqrt(100)) - pnorm(1,2,sqrt(100))\n",
    "res"
   ]
  },
  {
   "cell_type": "markdown",
   "metadata": {},
   "source": [
    "Sea $X\\sim N(1,10)$ Obtenga $x_0$ tal que $P(X<x_0)=0.4$"
   ]
  },
  {
   "cell_type": "code",
   "execution_count": 160,
   "metadata": {},
   "outputs": [
    {
     "data": {
      "text/html": [
       "0.198846115485286"
      ],
      "text/latex": [
       "0.198846115485286"
      ],
      "text/markdown": [
       "0.198846115485286"
      ],
      "text/plain": [
       "[1] 0.1988461"
      ]
     },
     "metadata": {},
     "output_type": "display_data"
    }
   ],
   "source": [
    "qnorm(0.4,1,sqrt(10))"
   ]
  },
  {
   "cell_type": "markdown",
   "metadata": {},
   "source": [
    "Sea $X\\sim N(-1,2)$ Calcular $P(X>0)$\n",
    "\n",
    "Note que:\n",
    "$$\n",
    "P(X>0) = 1-P(X<0)\n",
    "$$"
   ]
  },
  {
   "cell_type": "code",
   "execution_count": 162,
   "metadata": {},
   "outputs": [
    {
     "data": {
      "text/html": [
       "0.239750061093477"
      ],
      "text/latex": [
       "0.239750061093477"
      ],
      "text/markdown": [
       "0.239750061093477"
      ],
      "text/plain": [
       "[1] 0.2397501"
      ]
     },
     "metadata": {},
     "output_type": "display_data"
    }
   ],
   "source": [
    "res = 1- pnorm(0,-1,sqrt(2))\n",
    "res"
   ]
  },
  {
   "cell_type": "markdown",
   "metadata": {},
   "source": [
    "Sea $X\\sim N(0,4)$, obtenga $x_0$ tal que $P(X>x_0) = 0.2$"
   ]
  },
  {
   "cell_type": "markdown",
   "metadata": {},
   "source": [
    "$$\n",
    "P(X>x_0) = 0.2 \\rightarrow 1-P(X<x_0) = 0.2 \\rightarrow P(X<x_0) =0.8\n",
    "$$"
   ]
  },
  {
   "cell_type": "code",
   "execution_count": 163,
   "metadata": {},
   "outputs": [
    {
     "data": {
      "text/html": [
       "1.68324246714583"
      ],
      "text/latex": [
       "1.68324246714583"
      ],
      "text/markdown": [
       "1.68324246714583"
      ],
      "text/plain": [
       "[1] 1.683242"
      ]
     },
     "metadata": {},
     "output_type": "display_data"
    }
   ],
   "source": [
    "qnorm(0.8,0,2)"
   ]
  }
 ],
 "metadata": {
  "kernelspec": {
   "display_name": "R",
   "language": "R",
   "name": "ir"
  },
  "language_info": {
   "codemirror_mode": "r",
   "file_extension": ".r",
   "mimetype": "text/x-r-source",
   "name": "R",
   "pygments_lexer": "r",
   "version": "4.0.4"
  }
 },
 "nbformat": 4,
 "nbformat_minor": 4
}
